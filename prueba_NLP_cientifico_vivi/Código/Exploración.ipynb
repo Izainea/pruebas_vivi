{
 "cells": [
  {
   "cell_type": "markdown",
   "metadata": {},
   "source": [
    "# Cuaderno de presentación prueba NLP Davivienda\n",
    "\n",
    "En este cuaderno se hace una breve descripción de aspectos relevantes obtenidos en los tweets."
   ]
  },
  {
   "cell_type": "code",
   "execution_count": 212,
   "metadata": {},
   "outputs": [],
   "source": [
    "#!pip install spacy\n",
    "#!python -m spacy download es_core_news_sm\n",
    "#!pip install transformers\n",
    "#!pip install tensorflow\n",
    "#!pip install bs4\n",
    "#!pip install networkx\n",
    "#!pip install gensim\n",
    "#!pip install pyLDAvis"
   ]
  },
  {
   "cell_type": "code",
   "execution_count": 247,
   "metadata": {},
   "outputs": [
    {
     "name": "stderr",
     "output_type": "stream",
     "text": [
      "/home/izainea/miniconda3/lib/python3.10/site-packages/past/builtins/misc.py:45: DeprecationWarning:\n",
      "\n",
      "the imp module is deprecated in favour of importlib and slated for removal in Python 3.12; see the module's documentation for alternative uses\n",
      "\n"
     ]
    }
   ],
   "source": [
    "import pandas as pd\n",
    "import numpy as np\n",
    "import matplotlib.pyplot as plt\n",
    "import seaborn as sns\n",
    "import re\n",
    "import nltk\n",
    "from nltk.corpus import stopwords\n",
    "from nltk.stem import SnowballStemmer\n",
    "from nltk.tokenize import word_tokenize\n",
    "import plotly.express as px\n",
    "import plotly.graph_objects as go\n",
    "\n",
    "import spacy\n",
    "import es_core_news_sm\n",
    "nlp=spacy.load(\"es_core_news_sm\")\n",
    "from spacy import displacy\n",
    "\n",
    "import gensim \n",
    "from gensim import corpora\n",
    "from gensim.models import CoherenceModel\n",
    "from gensim.models import LdaModel\n",
    "from gensim.models import LdaMulticore\n",
    "from gensim.models import LsiModel\n",
    "from gensim.models import HdpModel\n",
    "from gensim.models import TfidfModel\n",
    "from gensim.models import Word2Vec\n",
    "from gensim.models import KeyedVectors\n",
    "from gensim.models import Phrases\n",
    "from gensim.models import LdaSeqModel\n",
    "from gensim.parsing.preprocessing import preprocess_string, strip_punctuation\n",
    "\n",
    "\n",
    "import pyLDAvis\n",
    "import pyLDAvis.gensim_models as gensim_models\n",
    "\n",
    "import urllib\n",
    "from bs4 import BeautifulSoup\n",
    "\n",
    "import transformers\n",
    "import tensorflow as tf\n",
    "from transformers import BertTokenizer, TFBertModel, BertConfig\n",
    "\n",
    "\n",
    "import networkx as nx\n",
    "from networkx.algorithms import community\n",
    "\n",
    "\n"
   ]
  },
  {
   "cell_type": "code",
   "execution_count": 4,
   "metadata": {},
   "outputs": [
    {
     "data": {
      "text/html": [
       "<div>\n",
       "<style scoped>\n",
       "    .dataframe tbody tr th:only-of-type {\n",
       "        vertical-align: middle;\n",
       "    }\n",
       "\n",
       "    .dataframe tbody tr th {\n",
       "        vertical-align: top;\n",
       "    }\n",
       "\n",
       "    .dataframe thead th {\n",
       "        text-align: right;\n",
       "    }\n",
       "</style>\n",
       "<table border=\"1\" class=\"dataframe\">\n",
       "  <thead>\n",
       "    <tr style=\"text-align: right;\">\n",
       "      <th></th>\n",
       "      <th>Unnamed: 0</th>\n",
       "      <th>UserScreenName</th>\n",
       "      <th>UserName</th>\n",
       "      <th>Timestamp</th>\n",
       "      <th>Text</th>\n",
       "      <th>Embedded_text</th>\n",
       "      <th>Emojis</th>\n",
       "      <th>Comments</th>\n",
       "      <th>Likes</th>\n",
       "      <th>Retweets</th>\n",
       "      <th>Image link</th>\n",
       "      <th>Tweet URL</th>\n",
       "    </tr>\n",
       "  </thead>\n",
       "  <tbody>\n",
       "    <tr>\n",
       "      <th>0</th>\n",
       "      <td>0</td>\n",
       "      <td>Andrés Langebaek</td>\n",
       "      <td>@ALangebaek</td>\n",
       "      <td>2021-12-01T20:43:12.000Z</td>\n",
       "      <td>Andrés Langebaek\\n@ALangebaek\\n·\\n1 dic.</td>\n",
       "      <td>La confianza se afectó. El indicador de confia...</td>\n",
       "      <td>NaN</td>\n",
       "      <td>1.0</td>\n",
       "      <td>7</td>\n",
       "      <td>19</td>\n",
       "      <td>['https://pbs.twimg.com/media/FFjL57eXMAISBnk?...</td>\n",
       "      <td>https://twitter.com/ALangebaek/status/14661458...</td>\n",
       "    </tr>\n",
       "    <tr>\n",
       "      <th>1</th>\n",
       "      <td>1</td>\n",
       "      <td>Plaza Futura</td>\n",
       "      <td>@plaza_futura</td>\n",
       "      <td>2021-12-01T21:18:10.000Z</td>\n",
       "      <td>Plaza Futura\\n@plaza_futura\\n·\\n1 dic.</td>\n",
       "      <td>Buscamos la accesibilidad y mejor atención en ...</td>\n",
       "      <td>✅ ✅ ✅ ✅ ✅</td>\n",
       "      <td>NaN</td>\n",
       "      <td>NaN</td>\n",
       "      <td>NaN</td>\n",
       "      <td>['https://pbs.twimg.com/ext_tw_video_thumb/146...</td>\n",
       "      <td>https://twitter.com/plaza_futura/status/146615...</td>\n",
       "    </tr>\n",
       "    <tr>\n",
       "      <th>2</th>\n",
       "      <td>2</td>\n",
       "      <td>Julián Martinez</td>\n",
       "      <td>@JulianM998</td>\n",
       "      <td>2021-12-01T22:49:11.000Z</td>\n",
       "      <td>Julián Martinez\\n@JulianM998\\n·\\n1 dic.</td>\n",
       "      <td>Señores \\n@Davivienda\\n no he podido ingresar ...</td>\n",
       "      <td>NaN</td>\n",
       "      <td>1.0</td>\n",
       "      <td>NaN</td>\n",
       "      <td>1</td>\n",
       "      <td>[]</td>\n",
       "      <td>https://twitter.com/JulianM998/status/14661775...</td>\n",
       "    </tr>\n",
       "    <tr>\n",
       "      <th>3</th>\n",
       "      <td>3</td>\n",
       "      <td>Ferchis.</td>\n",
       "      <td>@fergomezr28</td>\n",
       "      <td>2021-12-01T12:29:07.000Z</td>\n",
       "      <td>Ferchis.\\n@fergomezr28\\n·\\n1 dic.</td>\n",
       "      <td>Llevo toda una semana sufriendo intento de hur...</td>\n",
       "      <td>NaN</td>\n",
       "      <td>2.0</td>\n",
       "      <td>1</td>\n",
       "      <td>2</td>\n",
       "      <td>[]</td>\n",
       "      <td>https://twitter.com/fergomezr28/status/1466021...</td>\n",
       "    </tr>\n",
       "    <tr>\n",
       "      <th>4</th>\n",
       "      <td>4</td>\n",
       "      <td>MirandaL2</td>\n",
       "      <td>@MirandaSuspLo</td>\n",
       "      <td>2021-12-01T20:52:36.000Z</td>\n",
       "      <td>MirandaL2\\n@MirandaSuspLo\\n·\\n1 dic.</td>\n",
       "      <td>Hemos retrocedido tanto en este país con este ...</td>\n",
       "      <td>NaN</td>\n",
       "      <td>3.0</td>\n",
       "      <td>NaN</td>\n",
       "      <td>8</td>\n",
       "      <td>[]</td>\n",
       "      <td>https://twitter.com/MirandaSuspLo/status/14661...</td>\n",
       "    </tr>\n",
       "  </tbody>\n",
       "</table>\n",
       "</div>"
      ],
      "text/plain": [
       "   Unnamed: 0    UserScreenName        UserName                 Timestamp  \\\n",
       "0           0  Andrés Langebaek     @ALangebaek  2021-12-01T20:43:12.000Z   \n",
       "1           1      Plaza Futura   @plaza_futura  2021-12-01T21:18:10.000Z   \n",
       "2           2   Julián Martinez     @JulianM998  2021-12-01T22:49:11.000Z   \n",
       "3           3          Ferchis.    @fergomezr28  2021-12-01T12:29:07.000Z   \n",
       "4           4         MirandaL2  @MirandaSuspLo  2021-12-01T20:52:36.000Z   \n",
       "\n",
       "                                       Text  \\\n",
       "0  Andrés Langebaek\\n@ALangebaek\\n·\\n1 dic.   \n",
       "1    Plaza Futura\\n@plaza_futura\\n·\\n1 dic.   \n",
       "2   Julián Martinez\\n@JulianM998\\n·\\n1 dic.   \n",
       "3         Ferchis.\\n@fergomezr28\\n·\\n1 dic.   \n",
       "4      MirandaL2\\n@MirandaSuspLo\\n·\\n1 dic.   \n",
       "\n",
       "                                       Embedded_text     Emojis  Comments  \\\n",
       "0  La confianza se afectó. El indicador de confia...        NaN       1.0   \n",
       "1  Buscamos la accesibilidad y mejor atención en ...  ✅ ✅ ✅ ✅ ✅       NaN   \n",
       "2  Señores \\n@Davivienda\\n no he podido ingresar ...        NaN       1.0   \n",
       "3  Llevo toda una semana sufriendo intento de hur...        NaN       2.0   \n",
       "4  Hemos retrocedido tanto en este país con este ...        NaN       3.0   \n",
       "\n",
       "  Likes Retweets                                         Image link  \\\n",
       "0     7       19  ['https://pbs.twimg.com/media/FFjL57eXMAISBnk?...   \n",
       "1   NaN      NaN  ['https://pbs.twimg.com/ext_tw_video_thumb/146...   \n",
       "2   NaN        1                                                 []   \n",
       "3     1        2                                                 []   \n",
       "4   NaN        8                                                 []   \n",
       "\n",
       "                                           Tweet URL  \n",
       "0  https://twitter.com/ALangebaek/status/14661458...  \n",
       "1  https://twitter.com/plaza_futura/status/146615...  \n",
       "2  https://twitter.com/JulianM998/status/14661775...  \n",
       "3  https://twitter.com/fergomezr28/status/1466021...  \n",
       "4  https://twitter.com/MirandaSuspLo/status/14661...  "
      ]
     },
     "execution_count": 4,
     "metadata": {},
     "output_type": "execute_result"
    }
   ],
   "source": [
    "## Lectura de datos\n",
    "\n",
    "df_tweets = pd.read_csv(\"../Datos/davivienda_tweets.csv\")\n",
    "df_tweets.head()"
   ]
  },
  {
   "cell_type": "code",
   "execution_count": 123,
   "metadata": {},
   "outputs": [],
   "source": [
    "## Limpieza de datos\n",
    "## Iniciamos extrayendo caracteres especiales (\\n)\n",
    "\n",
    "df_tweets['Embedded_text_1'] = df_tweets['Embedded_text'].apply(lambda x: re.sub(r'\\n[ 0-9]*', ' ', x))\n",
    "\n",
    "## Luego extraemos los links\n",
    "df_tweets['links'] = df_tweets['Embedded_text_1'].apply(lambda x: re.findall(r'http\\S+', x))\n",
    "links_title=[]\n",
    "for i in df_tweets['links']:\n",
    "    if len(i)==0:\n",
    "        links_title.append(\"\")\n",
    "    else:\n",
    "        lista_i=[]\n",
    "        for k in i:\n",
    "            #print(k)\n",
    "            try:\n",
    "                html_page = urllib.request.urlopen(k)\n",
    "                soup = BeautifulSoup(html_page)\n",
    "                lista_i.append(soup.title.string)\n",
    "            except:\n",
    "               new_k=k.replace(\"https://\",\"\")\n",
    "               new_k=new_k.replace(\"http://\",\"\")\n",
    "               new_k=re.sub(r'\\.[A-Za-z\\.]*', '', new_k)\n",
    "               new_k=re.sub(r'\\/.*', '', new_k)\n",
    "               lista_i.append(new_k)\n",
    "        links_title.append(lista_i)\n",
    "\n",
    "df_tweets['links_title']=links_title\n",
    "df_tweets['conteo_links'] = df_tweets['links'].apply(lambda x: len(x))\n",
    "df_tweets['Embedded_text_1'] = df_tweets['Embedded_text_1'].apply(lambda x: re.sub(r'http\\S+', 'Link_aqui', x))\n",
    "\n",
    "## Luego extraemos los hashtags\n",
    "df_tweets['hashtags'] = df_tweets['Embedded_text_1'].apply(lambda x: re.findall(r'#\\S+', x))\n",
    "df_tweets['conteo_hashtags'] = df_tweets['hashtags'].apply(lambda x: len(x))\n",
    "\n",
    "## Luego extraemos los menciones\n",
    "df_tweets['menciones'] = df_tweets['Embedded_text_1'].apply(lambda x: re.findall(r'@\\S+', x))\n",
    "df_tweets['menciones'] = [[re.sub(\"[^0-9A-Za-z\\_\\-@]\",\"\",men.lower()) for men in k] for k in df_tweets['menciones']]\n",
    "df_tweets['conteo_menciones'] = df_tweets['menciones'].apply(lambda x: len(x))\n",
    "\n",
    "df_tweets['UserName']=df_tweets['UserName'].apply(lambda x: re.sub(\"[^0-9A-Za-z\\_\\-@]\",\"\",x.lower()))\n"
   ]
  },
  {
   "cell_type": "code",
   "execution_count": 43,
   "metadata": {},
   "outputs": [],
   "source": [
    "## Luego extraemos los emojis\n",
    "df_tweets['emojis'] = df_tweets['Embedded_text_1'].apply(lambda x: re.findall(r'\\\\u\\S+', x))\n",
    "df_tweets['conteo_emojis'] = df_tweets['emojis'].apply(lambda x: len(x))\n",
    "\n",
    "## Luego extraemos los RT\n",
    "df_tweets['RT'] = df_tweets['Embedded_text_1'].apply(lambda x: re.findall(r'RT', x))\n",
    "df_tweets['conteo_RT'] = df_tweets['RT'].apply(lambda x: len(x))\n",
    "\n"
   ]
  },
  {
   "cell_type": "code",
   "execution_count": 44,
   "metadata": {},
   "outputs": [
    {
     "name": "stderr",
     "output_type": "stream",
     "text": [
      "Some layers from the model checkpoint at nlptown/bert-base-multilingual-uncased-sentiment were not used when initializing TFBertForSequenceClassification: ['dropout_37']\n",
      "- This IS expected if you are initializing TFBertForSequenceClassification from the checkpoint of a model trained on another task or with another architecture (e.g. initializing a BertForSequenceClassification model from a BertForPreTraining model).\n",
      "- This IS NOT expected if you are initializing TFBertForSequenceClassification from the checkpoint of a model that you expect to be exactly identical (initializing a BertForSequenceClassification model from a BertForSequenceClassification model).\n",
      "All the layers of TFBertForSequenceClassification were initialized from the model checkpoint at nlptown/bert-base-multilingual-uncased-sentiment.\n",
      "If your task is similar to the task the model of the checkpoint was trained on, you can already use TFBertForSequenceClassification for predictions without further training.\n"
     ]
    }
   ],
   "source": [
    "## Análisis de sentimientos\n",
    "\n",
    "## Cargamos el modelo de sentimientos\n",
    "\n",
    "from transformers import pipeline\n",
    "nlp_sentiment = pipeline(\"sentiment-analysis\", model=\"nlptown/bert-base-multilingual-uncased-sentiment\")\n",
    "\n",
    "## Aplicamos el modelo a los tweets\n",
    "\n",
    "df_tweets['sentiment'] = df_tweets['Embedded_text_1'].apply(lambda x: nlp_sentiment(x)[0]['label'])\n",
    "df_tweets['sentiment_score'] = df_tweets['Embedded_text_1'].apply(lambda x: nlp_sentiment(x)[0]['sentiment_score'])\n"
   ]
  },
  {
   "cell_type": "code",
   "execution_count": 45,
   "metadata": {},
   "outputs": [
    {
     "data": {
      "text/plain": [
       "1 star     1250\n",
       "5 stars     314\n",
       "4 stars     152\n",
       "3 stars      51\n",
       "2 stars      44\n",
       "Name: sentiment, dtype: int64"
      ]
     },
     "execution_count": 45,
     "metadata": {},
     "output_type": "execute_result"
    }
   ],
   "source": [
    "df_tweets['sentiment'].value_counts()"
   ]
  },
  {
   "cell_type": "code",
   "execution_count": 46,
   "metadata": {},
   "outputs": [
    {
     "data": {
      "text/plain": [
       "count    1811.000000\n",
       "mean        0.546778\n",
       "std         0.188656\n",
       "min         0.219787\n",
       "25%         0.389547\n",
       "50%         0.513138\n",
       "75%         0.697739\n",
       "max         0.971901\n",
       "Name: score, dtype: float64"
      ]
     },
     "execution_count": 46,
     "metadata": {},
     "output_type": "execute_result"
    }
   ],
   "source": [
    "df_tweets['sentiment_score'].describe()"
   ]
  },
  {
   "cell_type": "code",
   "execution_count": 50,
   "metadata": {},
   "outputs": [
    {
     "data": {
      "text/plain": [
       "0                               []\n",
       "1                               []\n",
       "2                    [@davivienda]\n",
       "3       [@davivienda, @davivienda]\n",
       "4                    [@davivienda]\n",
       "                   ...            \n",
       "1806                [@jaimemolina]\n",
       "1807                   [@josefe71]\n",
       "1808                  [@gleniiaaa]\n",
       "1809                  [@diegoruix]\n",
       "1810                  [@diegoruix]\n",
       "Name: menciones, Length: 1811, dtype: object"
      ]
     },
     "execution_count": 50,
     "metadata": {},
     "output_type": "execute_result"
    }
   ],
   "source": [
    "df_tweets['menciones']"
   ]
  },
  {
   "cell_type": "code",
   "execution_count": 124,
   "metadata": {},
   "outputs": [],
   "source": [
    "## Creamos redes para identificar relaciones entre usuarios. Em pezamos por la mención de usuarios.\n",
    "list_df=[]\n",
    "for i in range(len(df_tweets)):\n",
    "    for j in df_tweets['menciones'][i]:\n",
    "            df_edges_mencion_temp=pd.DataFrame(data={'Source':[df_tweets['UserName'][i]],'Target':[j],'Weight':[1],'Type':['Mencion']})\n",
    "            list_df.append(df_edges_mencion_temp)\n",
    "df_edges_mencion=pd.concat(list_df)\n",
    "df_edges_mencion=df_edges_mencion.groupby(['Source','Target','Type']).sum().reset_index()\n",
    "\n"
   ]
  },
  {
   "cell_type": "code",
   "execution_count": 125,
   "metadata": {},
   "outputs": [
    {
     "data": {
      "text/html": [
       "<div>\n",
       "<style scoped>\n",
       "    .dataframe tbody tr th:only-of-type {\n",
       "        vertical-align: middle;\n",
       "    }\n",
       "\n",
       "    .dataframe tbody tr th {\n",
       "        vertical-align: top;\n",
       "    }\n",
       "\n",
       "    .dataframe thead th {\n",
       "        text-align: right;\n",
       "    }\n",
       "</style>\n",
       "<table border=\"1\" class=\"dataframe\">\n",
       "  <thead>\n",
       "    <tr style=\"text-align: right;\">\n",
       "      <th></th>\n",
       "      <th>Source</th>\n",
       "      <th>Target</th>\n",
       "      <th>Type</th>\n",
       "      <th>Weight</th>\n",
       "    </tr>\n",
       "  </thead>\n",
       "  <tbody>\n",
       "    <tr>\n",
       "      <th>0</th>\n",
       "      <td>@04elisabeth</td>\n",
       "      <td>@asnasalvaje</td>\n",
       "      <td>Mencion</td>\n",
       "      <td>1</td>\n",
       "    </tr>\n",
       "    <tr>\n",
       "      <th>1</th>\n",
       "      <td>@04elisabeth</td>\n",
       "      <td>@davivienda</td>\n",
       "      <td>Mencion</td>\n",
       "      <td>5</td>\n",
       "    </tr>\n",
       "    <tr>\n",
       "      <th>2</th>\n",
       "      <td>@04elisabeth</td>\n",
       "      <td>@sfcsupervisor</td>\n",
       "      <td>Mencion</td>\n",
       "      <td>1</td>\n",
       "    </tr>\n",
       "    <tr>\n",
       "      <th>3</th>\n",
       "      <td>@04elisabeth</td>\n",
       "      <td>@sicsuper</td>\n",
       "      <td>Mencion</td>\n",
       "      <td>1</td>\n",
       "    </tr>\n",
       "    <tr>\n",
       "      <th>4</th>\n",
       "      <td>@04elisabeth</td>\n",
       "      <td>@wilsonariasc</td>\n",
       "      <td>Mencion</td>\n",
       "      <td>1</td>\n",
       "    </tr>\n",
       "    <tr>\n",
       "      <th>...</th>\n",
       "      <td>...</td>\n",
       "      <td>...</td>\n",
       "      <td>...</td>\n",
       "      <td>...</td>\n",
       "    </tr>\n",
       "    <tr>\n",
       "      <th>2376</th>\n",
       "      <td>h@ner</td>\n",
       "      <td>@bancolombia</td>\n",
       "      <td>Mencion</td>\n",
       "      <td>1</td>\n",
       "    </tr>\n",
       "    <tr>\n",
       "      <th>2377</th>\n",
       "      <td>h@ner</td>\n",
       "      <td>@davivienda</td>\n",
       "      <td>Mencion</td>\n",
       "      <td>1</td>\n",
       "    </tr>\n",
       "    <tr>\n",
       "      <th>2378</th>\n",
       "      <td>karen-aleja-287@hotmailcom</td>\n",
       "      <td>@davivienda</td>\n",
       "      <td>Mencion</td>\n",
       "      <td>1</td>\n",
       "    </tr>\n",
       "    <tr>\n",
       "      <th>2379</th>\n",
       "      <td>profedellanterawilburbloqueadopor@ca_acosta</td>\n",
       "      <td>@fervarelahn</td>\n",
       "      <td>Mencion</td>\n",
       "      <td>1</td>\n",
       "    </tr>\n",
       "    <tr>\n",
       "      <th>2380</th>\n",
       "      <td>profedellanterawilburbloqueadopor@ca_acosta</td>\n",
       "      <td>@luislarahn</td>\n",
       "      <td>Mencion</td>\n",
       "      <td>1</td>\n",
       "    </tr>\n",
       "  </tbody>\n",
       "</table>\n",
       "<p>2381 rows × 4 columns</p>\n",
       "</div>"
      ],
      "text/plain": [
       "                                           Source          Target     Type  \\\n",
       "0                                    @04elisabeth    @asnasalvaje  Mencion   \n",
       "1                                    @04elisabeth     @davivienda  Mencion   \n",
       "2                                    @04elisabeth  @sfcsupervisor  Mencion   \n",
       "3                                    @04elisabeth       @sicsuper  Mencion   \n",
       "4                                    @04elisabeth   @wilsonariasc  Mencion   \n",
       "...                                           ...             ...      ...   \n",
       "2376                                        h@ner    @bancolombia  Mencion   \n",
       "2377                                        h@ner     @davivienda  Mencion   \n",
       "2378                   karen-aleja-287@hotmailcom     @davivienda  Mencion   \n",
       "2379  profedellanterawilburbloqueadopor@ca_acosta    @fervarelahn  Mencion   \n",
       "2380  profedellanterawilburbloqueadopor@ca_acosta     @luislarahn  Mencion   \n",
       "\n",
       "      Weight  \n",
       "0          1  \n",
       "1          5  \n",
       "2          1  \n",
       "3          1  \n",
       "4          1  \n",
       "...      ...  \n",
       "2376       1  \n",
       "2377       1  \n",
       "2378       1  \n",
       "2379       1  \n",
       "2380       1  \n",
       "\n",
       "[2381 rows x 4 columns]"
      ]
     },
     "execution_count": 125,
     "metadata": {},
     "output_type": "execute_result"
    }
   ],
   "source": [
    "df_edges_mencion"
   ]
  },
  {
   "cell_type": "code",
   "execution_count": 126,
   "metadata": {},
   "outputs": [],
   "source": [
    "## Seguimos por la co ocurrencia en tweets\n",
    "df_edges_relacion=pd.DataFrame(columns=['Source','Target','Weight','Type'])\n",
    "list_source=[]\n",
    "list_target=[]\n",
    "list_weight=[]\n",
    "list_type=[]\n",
    "for i in df_tweets['menciones']:\n",
    "    if len(i)>0:\n",
    "        n=len(i)\n",
    "        for k in range(n-1):\n",
    "            for j in range(k+1,n):\n",
    "                if i[k]!=i[j]:\n",
    "                    list_source.append(i[k])\n",
    "                    list_target.append(i[j])\n",
    "                    list_weight.append(1)\n",
    "                    list_type.append(\"undirected\")\n",
    "df_edges_relacion['Source']=list_source\n",
    "df_edges_relacion['Target']=list_target\n",
    "df_edges_relacion['Weight']=list_weight\n",
    "df_edges_relacion['Type']=list_type\n",
    "df_edges_relacion=df_edges_relacion.groupby(['Source','Target','Type']).sum().reset_index()\n",
    "\n",
    "df_edges_relacion.to_csv(\"../Datos/relacion_menciones.csv\",index=False)\n",
    "\n",
    "df_users_menciones=pd.DataFrame(columns=['Id','Label','Weight','Type'])\n",
    "list_id=[]\n",
    "list_label=[]\n",
    "list_weight=[]\n",
    "list_type=[]\n",
    "for i in df_tweets['menciones']:\n",
    "    if len(i)>0:\n",
    "        for k in i:\n",
    "            list_id.append(k)\n",
    "            list_label.append(k)\n",
    "            list_weight.append(1)\n",
    "            list_type.append(\"Undirected\")\n",
    "df_users_menciones['Id']=list_id\n",
    "df_users_menciones['Label']=list_label\n",
    "df_users_menciones['Weight']=list_weight\n",
    "df_users_menciones['Type']=list_type\n",
    "df_users_menciones=df_users_menciones.groupby(['Id','Label','Type']).sum().reset_index()\n",
    "\n",
    "df_users_menciones.to_csv(\"../Datos/usuarios_menciones.csv\",index=False)\n",
    "\n"
   ]
  },
  {
   "cell_type": "code",
   "execution_count": 127,
   "metadata": {},
   "outputs": [
    {
     "name": "stderr",
     "output_type": "stream",
     "text": [
      "/tmp/ipykernel_37159/1964696390.py:3: FutureWarning:\n",
      "\n",
      "The default value of numeric_only in DataFrameGroupBy.sum is deprecated. In a future version, numeric_only will default to False. Either specify numeric_only or select only columns which should be valid for the function.\n",
      "\n"
     ]
    }
   ],
   "source": [
    "## Veamos las relaciones de usuarios en mapas de calor\n",
    "\n",
    "df_heat_map=df_edges_mencion.groupby(['Source','Target']).sum().reset_index()\n",
    "df_heat_map=df_heat_map.pivot(index='Source',columns='Target',values='Weight')\n",
    "df_heat_map=df_heat_map.fillna(0)\n",
    "\n"
   ]
  },
  {
   "cell_type": "code",
   "execution_count": 165,
   "metadata": {},
   "outputs": [
    {
     "data": {
      "text/html": [
       "<div>\n",
       "<style scoped>\n",
       "    .dataframe tbody tr th:only-of-type {\n",
       "        vertical-align: middle;\n",
       "    }\n",
       "\n",
       "    .dataframe tbody tr th {\n",
       "        vertical-align: top;\n",
       "    }\n",
       "\n",
       "    .dataframe thead th {\n",
       "        text-align: right;\n",
       "    }\n",
       "</style>\n",
       "<table border=\"1\" class=\"dataframe\">\n",
       "  <thead>\n",
       "    <tr style=\"text-align: right;\">\n",
       "      <th>Target</th>\n",
       "      <th>@an4cr0s</th>\n",
       "      <th>@andrescepeda</th>\n",
       "      <th>@asnasalvaje</th>\n",
       "      <th>@augustoocampo</th>\n",
       "      <th>@banco_avvillas</th>\n",
       "      <th>@bancodebogota</th>\n",
       "      <th>@bancolombia</th>\n",
       "      <th>@bancosaval</th>\n",
       "      <th>@bbva</th>\n",
       "      <th>@binance</th>\n",
       "      <th>...</th>\n",
       "      <th>@petrogustavo</th>\n",
       "      <th>@prosperidadcol</th>\n",
       "      <th>@scotiacolpatria</th>\n",
       "      <th>@segurosbolivar</th>\n",
       "      <th>@sfcsupervisor</th>\n",
       "      <th>@sicsuper</th>\n",
       "      <th>@ssf_elsalvador</th>\n",
       "      <th>@susanacorreabor</th>\n",
       "      <th>@telefonorojo</th>\n",
       "      <th>@wilsonariasc</th>\n",
       "    </tr>\n",
       "    <tr>\n",
       "      <th>Source</th>\n",
       "      <th></th>\n",
       "      <th></th>\n",
       "      <th></th>\n",
       "      <th></th>\n",
       "      <th></th>\n",
       "      <th></th>\n",
       "      <th></th>\n",
       "      <th></th>\n",
       "      <th></th>\n",
       "      <th></th>\n",
       "      <th></th>\n",
       "      <th></th>\n",
       "      <th></th>\n",
       "      <th></th>\n",
       "      <th></th>\n",
       "      <th></th>\n",
       "      <th></th>\n",
       "      <th></th>\n",
       "      <th></th>\n",
       "      <th></th>\n",
       "      <th></th>\n",
       "    </tr>\n",
       "  </thead>\n",
       "  <tbody>\n",
       "    <tr>\n",
       "      <th>@04elisabeth</th>\n",
       "      <td>0.0</td>\n",
       "      <td>0.0</td>\n",
       "      <td>1.0</td>\n",
       "      <td>0.0</td>\n",
       "      <td>0.0</td>\n",
       "      <td>0.0</td>\n",
       "      <td>0.0</td>\n",
       "      <td>0.0</td>\n",
       "      <td>0.0</td>\n",
       "      <td>0.0</td>\n",
       "      <td>...</td>\n",
       "      <td>0.0</td>\n",
       "      <td>0.0</td>\n",
       "      <td>0.0</td>\n",
       "      <td>0.0</td>\n",
       "      <td>1.0</td>\n",
       "      <td>1.0</td>\n",
       "      <td>0.0</td>\n",
       "      <td>0.0</td>\n",
       "      <td>0.0</td>\n",
       "      <td>1.0</td>\n",
       "    </tr>\n",
       "    <tr>\n",
       "      <th>@andresoso</th>\n",
       "      <td>0.0</td>\n",
       "      <td>0.0</td>\n",
       "      <td>0.0</td>\n",
       "      <td>0.0</td>\n",
       "      <td>0.0</td>\n",
       "      <td>0.0</td>\n",
       "      <td>0.0</td>\n",
       "      <td>0.0</td>\n",
       "      <td>0.0</td>\n",
       "      <td>0.0</td>\n",
       "      <td>...</td>\n",
       "      <td>0.0</td>\n",
       "      <td>0.0</td>\n",
       "      <td>0.0</td>\n",
       "      <td>0.0</td>\n",
       "      <td>0.0</td>\n",
       "      <td>0.0</td>\n",
       "      <td>0.0</td>\n",
       "      <td>0.0</td>\n",
       "      <td>0.0</td>\n",
       "      <td>0.0</td>\n",
       "    </tr>\n",
       "    <tr>\n",
       "      <th>@berzota</th>\n",
       "      <td>0.0</td>\n",
       "      <td>0.0</td>\n",
       "      <td>0.0</td>\n",
       "      <td>0.0</td>\n",
       "      <td>0.0</td>\n",
       "      <td>0.0</td>\n",
       "      <td>0.0</td>\n",
       "      <td>0.0</td>\n",
       "      <td>0.0</td>\n",
       "      <td>0.0</td>\n",
       "      <td>...</td>\n",
       "      <td>0.0</td>\n",
       "      <td>0.0</td>\n",
       "      <td>0.0</td>\n",
       "      <td>0.0</td>\n",
       "      <td>3.0</td>\n",
       "      <td>0.0</td>\n",
       "      <td>0.0</td>\n",
       "      <td>0.0</td>\n",
       "      <td>0.0</td>\n",
       "      <td>0.0</td>\n",
       "    </tr>\n",
       "    <tr>\n",
       "      <th>@cnoguera20</th>\n",
       "      <td>0.0</td>\n",
       "      <td>0.0</td>\n",
       "      <td>0.0</td>\n",
       "      <td>0.0</td>\n",
       "      <td>0.0</td>\n",
       "      <td>0.0</td>\n",
       "      <td>0.0</td>\n",
       "      <td>0.0</td>\n",
       "      <td>0.0</td>\n",
       "      <td>0.0</td>\n",
       "      <td>...</td>\n",
       "      <td>0.0</td>\n",
       "      <td>0.0</td>\n",
       "      <td>0.0</td>\n",
       "      <td>0.0</td>\n",
       "      <td>6.0</td>\n",
       "      <td>0.0</td>\n",
       "      <td>0.0</td>\n",
       "      <td>0.0</td>\n",
       "      <td>0.0</td>\n",
       "      <td>0.0</td>\n",
       "    </tr>\n",
       "    <tr>\n",
       "      <th>@davicorredores</th>\n",
       "      <td>0.0</td>\n",
       "      <td>0.0</td>\n",
       "      <td>0.0</td>\n",
       "      <td>0.0</td>\n",
       "      <td>0.0</td>\n",
       "      <td>0.0</td>\n",
       "      <td>0.0</td>\n",
       "      <td>0.0</td>\n",
       "      <td>0.0</td>\n",
       "      <td>0.0</td>\n",
       "      <td>...</td>\n",
       "      <td>0.0</td>\n",
       "      <td>0.0</td>\n",
       "      <td>0.0</td>\n",
       "      <td>0.0</td>\n",
       "      <td>1.0</td>\n",
       "      <td>1.0</td>\n",
       "      <td>0.0</td>\n",
       "      <td>0.0</td>\n",
       "      <td>0.0</td>\n",
       "      <td>0.0</td>\n",
       "    </tr>\n",
       "    <tr>\n",
       "      <th>@edimejia1979</th>\n",
       "      <td>0.0</td>\n",
       "      <td>0.0</td>\n",
       "      <td>0.0</td>\n",
       "      <td>0.0</td>\n",
       "      <td>0.0</td>\n",
       "      <td>0.0</td>\n",
       "      <td>0.0</td>\n",
       "      <td>0.0</td>\n",
       "      <td>0.0</td>\n",
       "      <td>7.0</td>\n",
       "      <td>...</td>\n",
       "      <td>0.0</td>\n",
       "      <td>0.0</td>\n",
       "      <td>0.0</td>\n",
       "      <td>0.0</td>\n",
       "      <td>0.0</td>\n",
       "      <td>0.0</td>\n",
       "      <td>0.0</td>\n",
       "      <td>0.0</td>\n",
       "      <td>0.0</td>\n",
       "      <td>0.0</td>\n",
       "    </tr>\n",
       "    <tr>\n",
       "      <th>@eljulisoquete</th>\n",
       "      <td>0.0</td>\n",
       "      <td>0.0</td>\n",
       "      <td>1.0</td>\n",
       "      <td>0.0</td>\n",
       "      <td>0.0</td>\n",
       "      <td>0.0</td>\n",
       "      <td>0.0</td>\n",
       "      <td>0.0</td>\n",
       "      <td>0.0</td>\n",
       "      <td>0.0</td>\n",
       "      <td>...</td>\n",
       "      <td>0.0</td>\n",
       "      <td>0.0</td>\n",
       "      <td>0.0</td>\n",
       "      <td>0.0</td>\n",
       "      <td>1.0</td>\n",
       "      <td>0.0</td>\n",
       "      <td>0.0</td>\n",
       "      <td>0.0</td>\n",
       "      <td>0.0</td>\n",
       "      <td>0.0</td>\n",
       "    </tr>\n",
       "    <tr>\n",
       "      <th>@enriquedelgadop</th>\n",
       "      <td>0.0</td>\n",
       "      <td>0.0</td>\n",
       "      <td>0.0</td>\n",
       "      <td>0.0</td>\n",
       "      <td>0.0</td>\n",
       "      <td>0.0</td>\n",
       "      <td>0.0</td>\n",
       "      <td>0.0</td>\n",
       "      <td>0.0</td>\n",
       "      <td>0.0</td>\n",
       "      <td>...</td>\n",
       "      <td>0.0</td>\n",
       "      <td>0.0</td>\n",
       "      <td>0.0</td>\n",
       "      <td>0.0</td>\n",
       "      <td>0.0</td>\n",
       "      <td>0.0</td>\n",
       "      <td>0.0</td>\n",
       "      <td>0.0</td>\n",
       "      <td>0.0</td>\n",
       "      <td>13.0</td>\n",
       "    </tr>\n",
       "    <tr>\n",
       "      <th>@fabiofernandoh1</th>\n",
       "      <td>0.0</td>\n",
       "      <td>0.0</td>\n",
       "      <td>0.0</td>\n",
       "      <td>0.0</td>\n",
       "      <td>0.0</td>\n",
       "      <td>0.0</td>\n",
       "      <td>0.0</td>\n",
       "      <td>0.0</td>\n",
       "      <td>0.0</td>\n",
       "      <td>0.0</td>\n",
       "      <td>...</td>\n",
       "      <td>0.0</td>\n",
       "      <td>0.0</td>\n",
       "      <td>0.0</td>\n",
       "      <td>0.0</td>\n",
       "      <td>5.0</td>\n",
       "      <td>0.0</td>\n",
       "      <td>0.0</td>\n",
       "      <td>0.0</td>\n",
       "      <td>0.0</td>\n",
       "      <td>0.0</td>\n",
       "    </tr>\n",
       "    <tr>\n",
       "      <th>@gbaquerorincon</th>\n",
       "      <td>0.0</td>\n",
       "      <td>0.0</td>\n",
       "      <td>0.0</td>\n",
       "      <td>0.0</td>\n",
       "      <td>0.0</td>\n",
       "      <td>0.0</td>\n",
       "      <td>0.0</td>\n",
       "      <td>0.0</td>\n",
       "      <td>0.0</td>\n",
       "      <td>0.0</td>\n",
       "      <td>...</td>\n",
       "      <td>0.0</td>\n",
       "      <td>0.0</td>\n",
       "      <td>0.0</td>\n",
       "      <td>0.0</td>\n",
       "      <td>0.0</td>\n",
       "      <td>0.0</td>\n",
       "      <td>0.0</td>\n",
       "      <td>0.0</td>\n",
       "      <td>0.0</td>\n",
       "      <td>4.0</td>\n",
       "    </tr>\n",
       "    <tr>\n",
       "      <th>@godolaxo</th>\n",
       "      <td>0.0</td>\n",
       "      <td>0.0</td>\n",
       "      <td>0.0</td>\n",
       "      <td>0.0</td>\n",
       "      <td>0.0</td>\n",
       "      <td>0.0</td>\n",
       "      <td>0.0</td>\n",
       "      <td>0.0</td>\n",
       "      <td>0.0</td>\n",
       "      <td>0.0</td>\n",
       "      <td>...</td>\n",
       "      <td>0.0</td>\n",
       "      <td>0.0</td>\n",
       "      <td>0.0</td>\n",
       "      <td>0.0</td>\n",
       "      <td>0.0</td>\n",
       "      <td>0.0</td>\n",
       "      <td>0.0</td>\n",
       "      <td>0.0</td>\n",
       "      <td>0.0</td>\n",
       "      <td>0.0</td>\n",
       "    </tr>\n",
       "    <tr>\n",
       "      <th>@joacoro</th>\n",
       "      <td>0.0</td>\n",
       "      <td>0.0</td>\n",
       "      <td>0.0</td>\n",
       "      <td>0.0</td>\n",
       "      <td>0.0</td>\n",
       "      <td>0.0</td>\n",
       "      <td>7.0</td>\n",
       "      <td>0.0</td>\n",
       "      <td>0.0</td>\n",
       "      <td>0.0</td>\n",
       "      <td>...</td>\n",
       "      <td>0.0</td>\n",
       "      <td>0.0</td>\n",
       "      <td>0.0</td>\n",
       "      <td>0.0</td>\n",
       "      <td>2.0</td>\n",
       "      <td>0.0</td>\n",
       "      <td>0.0</td>\n",
       "      <td>0.0</td>\n",
       "      <td>0.0</td>\n",
       "      <td>0.0</td>\n",
       "    </tr>\n",
       "    <tr>\n",
       "      <th>@johnsonmtb</th>\n",
       "      <td>0.0</td>\n",
       "      <td>0.0</td>\n",
       "      <td>0.0</td>\n",
       "      <td>0.0</td>\n",
       "      <td>0.0</td>\n",
       "      <td>0.0</td>\n",
       "      <td>0.0</td>\n",
       "      <td>0.0</td>\n",
       "      <td>0.0</td>\n",
       "      <td>0.0</td>\n",
       "      <td>...</td>\n",
       "      <td>0.0</td>\n",
       "      <td>0.0</td>\n",
       "      <td>0.0</td>\n",
       "      <td>0.0</td>\n",
       "      <td>4.0</td>\n",
       "      <td>8.0</td>\n",
       "      <td>0.0</td>\n",
       "      <td>0.0</td>\n",
       "      <td>0.0</td>\n",
       "      <td>0.0</td>\n",
       "    </tr>\n",
       "    <tr>\n",
       "      <th>@juanma7725</th>\n",
       "      <td>0.0</td>\n",
       "      <td>0.0</td>\n",
       "      <td>0.0</td>\n",
       "      <td>0.0</td>\n",
       "      <td>0.0</td>\n",
       "      <td>0.0</td>\n",
       "      <td>0.0</td>\n",
       "      <td>0.0</td>\n",
       "      <td>0.0</td>\n",
       "      <td>6.0</td>\n",
       "      <td>...</td>\n",
       "      <td>0.0</td>\n",
       "      <td>0.0</td>\n",
       "      <td>0.0</td>\n",
       "      <td>0.0</td>\n",
       "      <td>0.0</td>\n",
       "      <td>0.0</td>\n",
       "      <td>0.0</td>\n",
       "      <td>0.0</td>\n",
       "      <td>0.0</td>\n",
       "      <td>0.0</td>\n",
       "    </tr>\n",
       "    <tr>\n",
       "      <th>@karlaarcila</th>\n",
       "      <td>0.0</td>\n",
       "      <td>0.0</td>\n",
       "      <td>0.0</td>\n",
       "      <td>0.0</td>\n",
       "      <td>0.0</td>\n",
       "      <td>0.0</td>\n",
       "      <td>0.0</td>\n",
       "      <td>0.0</td>\n",
       "      <td>0.0</td>\n",
       "      <td>0.0</td>\n",
       "      <td>...</td>\n",
       "      <td>0.0</td>\n",
       "      <td>0.0</td>\n",
       "      <td>0.0</td>\n",
       "      <td>0.0</td>\n",
       "      <td>0.0</td>\n",
       "      <td>0.0</td>\n",
       "      <td>0.0</td>\n",
       "      <td>0.0</td>\n",
       "      <td>0.0</td>\n",
       "      <td>0.0</td>\n",
       "    </tr>\n",
       "    <tr>\n",
       "      <th>@oscatorex</th>\n",
       "      <td>0.0</td>\n",
       "      <td>0.0</td>\n",
       "      <td>0.0</td>\n",
       "      <td>0.0</td>\n",
       "      <td>0.0</td>\n",
       "      <td>0.0</td>\n",
       "      <td>0.0</td>\n",
       "      <td>0.0</td>\n",
       "      <td>0.0</td>\n",
       "      <td>0.0</td>\n",
       "      <td>...</td>\n",
       "      <td>0.0</td>\n",
       "      <td>0.0</td>\n",
       "      <td>0.0</td>\n",
       "      <td>0.0</td>\n",
       "      <td>1.0</td>\n",
       "      <td>0.0</td>\n",
       "      <td>0.0</td>\n",
       "      <td>0.0</td>\n",
       "      <td>0.0</td>\n",
       "      <td>0.0</td>\n",
       "    </tr>\n",
       "    <tr>\n",
       "      <th>@sago2022</th>\n",
       "      <td>0.0</td>\n",
       "      <td>0.0</td>\n",
       "      <td>0.0</td>\n",
       "      <td>0.0</td>\n",
       "      <td>0.0</td>\n",
       "      <td>0.0</td>\n",
       "      <td>0.0</td>\n",
       "      <td>0.0</td>\n",
       "      <td>0.0</td>\n",
       "      <td>0.0</td>\n",
       "      <td>...</td>\n",
       "      <td>0.0</td>\n",
       "      <td>0.0</td>\n",
       "      <td>0.0</td>\n",
       "      <td>0.0</td>\n",
       "      <td>0.0</td>\n",
       "      <td>0.0</td>\n",
       "      <td>0.0</td>\n",
       "      <td>0.0</td>\n",
       "      <td>0.0</td>\n",
       "      <td>0.0</td>\n",
       "    </tr>\n",
       "    <tr>\n",
       "      <th>@soniajannethba</th>\n",
       "      <td>0.0</td>\n",
       "      <td>0.0</td>\n",
       "      <td>0.0</td>\n",
       "      <td>0.0</td>\n",
       "      <td>0.0</td>\n",
       "      <td>0.0</td>\n",
       "      <td>0.0</td>\n",
       "      <td>0.0</td>\n",
       "      <td>0.0</td>\n",
       "      <td>0.0</td>\n",
       "      <td>...</td>\n",
       "      <td>0.0</td>\n",
       "      <td>0.0</td>\n",
       "      <td>0.0</td>\n",
       "      <td>0.0</td>\n",
       "      <td>0.0</td>\n",
       "      <td>0.0</td>\n",
       "      <td>0.0</td>\n",
       "      <td>0.0</td>\n",
       "      <td>0.0</td>\n",
       "      <td>0.0</td>\n",
       "    </tr>\n",
       "  </tbody>\n",
       "</table>\n",
       "<p>18 rows × 53 columns</p>\n",
       "</div>"
      ],
      "text/plain": [
       "Target            @an4cr0s  @andrescepeda  @asnasalvaje  @augustoocampo  \\\n",
       "Source                                                                    \n",
       "@04elisabeth           0.0            0.0           1.0             0.0   \n",
       "@andresoso             0.0            0.0           0.0             0.0   \n",
       "@berzota               0.0            0.0           0.0             0.0   \n",
       "@cnoguera20            0.0            0.0           0.0             0.0   \n",
       "@davicorredores        0.0            0.0           0.0             0.0   \n",
       "@edimejia1979          0.0            0.0           0.0             0.0   \n",
       "@eljulisoquete         0.0            0.0           1.0             0.0   \n",
       "@enriquedelgadop       0.0            0.0           0.0             0.0   \n",
       "@fabiofernandoh1       0.0            0.0           0.0             0.0   \n",
       "@gbaquerorincon        0.0            0.0           0.0             0.0   \n",
       "@godolaxo              0.0            0.0           0.0             0.0   \n",
       "@joacoro               0.0            0.0           0.0             0.0   \n",
       "@johnsonmtb            0.0            0.0           0.0             0.0   \n",
       "@juanma7725            0.0            0.0           0.0             0.0   \n",
       "@karlaarcila           0.0            0.0           0.0             0.0   \n",
       "@oscatorex             0.0            0.0           0.0             0.0   \n",
       "@sago2022              0.0            0.0           0.0             0.0   \n",
       "@soniajannethba        0.0            0.0           0.0             0.0   \n",
       "\n",
       "Target            @banco_avvillas  @bancodebogota  @bancolombia  @bancosaval  \\\n",
       "Source                                                                         \n",
       "@04elisabeth                  0.0             0.0           0.0          0.0   \n",
       "@andresoso                    0.0             0.0           0.0          0.0   \n",
       "@berzota                      0.0             0.0           0.0          0.0   \n",
       "@cnoguera20                   0.0             0.0           0.0          0.0   \n",
       "@davicorredores               0.0             0.0           0.0          0.0   \n",
       "@edimejia1979                 0.0             0.0           0.0          0.0   \n",
       "@eljulisoquete                0.0             0.0           0.0          0.0   \n",
       "@enriquedelgadop              0.0             0.0           0.0          0.0   \n",
       "@fabiofernandoh1              0.0             0.0           0.0          0.0   \n",
       "@gbaquerorincon               0.0             0.0           0.0          0.0   \n",
       "@godolaxo                     0.0             0.0           0.0          0.0   \n",
       "@joacoro                      0.0             0.0           7.0          0.0   \n",
       "@johnsonmtb                   0.0             0.0           0.0          0.0   \n",
       "@juanma7725                   0.0             0.0           0.0          0.0   \n",
       "@karlaarcila                  0.0             0.0           0.0          0.0   \n",
       "@oscatorex                    0.0             0.0           0.0          0.0   \n",
       "@sago2022                     0.0             0.0           0.0          0.0   \n",
       "@soniajannethba               0.0             0.0           0.0          0.0   \n",
       "\n",
       "Target            @bbva  @binance  ...  @petrogustavo  @prosperidadcol  \\\n",
       "Source                             ...                                   \n",
       "@04elisabeth        0.0       0.0  ...            0.0              0.0   \n",
       "@andresoso          0.0       0.0  ...            0.0              0.0   \n",
       "@berzota            0.0       0.0  ...            0.0              0.0   \n",
       "@cnoguera20         0.0       0.0  ...            0.0              0.0   \n",
       "@davicorredores     0.0       0.0  ...            0.0              0.0   \n",
       "@edimejia1979       0.0       7.0  ...            0.0              0.0   \n",
       "@eljulisoquete      0.0       0.0  ...            0.0              0.0   \n",
       "@enriquedelgadop    0.0       0.0  ...            0.0              0.0   \n",
       "@fabiofernandoh1    0.0       0.0  ...            0.0              0.0   \n",
       "@gbaquerorincon     0.0       0.0  ...            0.0              0.0   \n",
       "@godolaxo           0.0       0.0  ...            0.0              0.0   \n",
       "@joacoro            0.0       0.0  ...            0.0              0.0   \n",
       "@johnsonmtb         0.0       0.0  ...            0.0              0.0   \n",
       "@juanma7725         0.0       6.0  ...            0.0              0.0   \n",
       "@karlaarcila        0.0       0.0  ...            0.0              0.0   \n",
       "@oscatorex          0.0       0.0  ...            0.0              0.0   \n",
       "@sago2022           0.0       0.0  ...            0.0              0.0   \n",
       "@soniajannethba     0.0       0.0  ...            0.0              0.0   \n",
       "\n",
       "Target            @scotiacolpatria  @segurosbolivar  @sfcsupervisor  \\\n",
       "Source                                                                \n",
       "@04elisabeth                   0.0              0.0             1.0   \n",
       "@andresoso                     0.0              0.0             0.0   \n",
       "@berzota                       0.0              0.0             3.0   \n",
       "@cnoguera20                    0.0              0.0             6.0   \n",
       "@davicorredores                0.0              0.0             1.0   \n",
       "@edimejia1979                  0.0              0.0             0.0   \n",
       "@eljulisoquete                 0.0              0.0             1.0   \n",
       "@enriquedelgadop               0.0              0.0             0.0   \n",
       "@fabiofernandoh1               0.0              0.0             5.0   \n",
       "@gbaquerorincon                0.0              0.0             0.0   \n",
       "@godolaxo                      0.0              0.0             0.0   \n",
       "@joacoro                       0.0              0.0             2.0   \n",
       "@johnsonmtb                    0.0              0.0             4.0   \n",
       "@juanma7725                    0.0              0.0             0.0   \n",
       "@karlaarcila                   0.0              0.0             0.0   \n",
       "@oscatorex                     0.0              0.0             1.0   \n",
       "@sago2022                      0.0              0.0             0.0   \n",
       "@soniajannethba                0.0              0.0             0.0   \n",
       "\n",
       "Target            @sicsuper  @ssf_elsalvador  @susanacorreabor  @telefonorojo  \\\n",
       "Source                                                                          \n",
       "@04elisabeth            1.0              0.0               0.0            0.0   \n",
       "@andresoso              0.0              0.0               0.0            0.0   \n",
       "@berzota                0.0              0.0               0.0            0.0   \n",
       "@cnoguera20             0.0              0.0               0.0            0.0   \n",
       "@davicorredores         1.0              0.0               0.0            0.0   \n",
       "@edimejia1979           0.0              0.0               0.0            0.0   \n",
       "@eljulisoquete          0.0              0.0               0.0            0.0   \n",
       "@enriquedelgadop        0.0              0.0               0.0            0.0   \n",
       "@fabiofernandoh1        0.0              0.0               0.0            0.0   \n",
       "@gbaquerorincon         0.0              0.0               0.0            0.0   \n",
       "@godolaxo               0.0              0.0               0.0            0.0   \n",
       "@joacoro                0.0              0.0               0.0            0.0   \n",
       "@johnsonmtb             8.0              0.0               0.0            0.0   \n",
       "@juanma7725             0.0              0.0               0.0            0.0   \n",
       "@karlaarcila            0.0              0.0               0.0            0.0   \n",
       "@oscatorex              0.0              0.0               0.0            0.0   \n",
       "@sago2022               0.0              0.0               0.0            0.0   \n",
       "@soniajannethba         0.0              0.0               0.0            0.0   \n",
       "\n",
       "Target            @wilsonariasc  \n",
       "Source                           \n",
       "@04elisabeth                1.0  \n",
       "@andresoso                  0.0  \n",
       "@berzota                    0.0  \n",
       "@cnoguera20                 0.0  \n",
       "@davicorredores             0.0  \n",
       "@edimejia1979               0.0  \n",
       "@eljulisoquete              0.0  \n",
       "@enriquedelgadop           13.0  \n",
       "@fabiofernandoh1            0.0  \n",
       "@gbaquerorincon             4.0  \n",
       "@godolaxo                   0.0  \n",
       "@joacoro                    0.0  \n",
       "@johnsonmtb                 0.0  \n",
       "@juanma7725                 0.0  \n",
       "@karlaarcila                0.0  \n",
       "@oscatorex                  0.0  \n",
       "@sago2022                   0.0  \n",
       "@soniajannethba             0.0  \n",
       "\n",
       "[18 rows x 53 columns]"
      ]
     },
     "execution_count": 165,
     "metadata": {},
     "output_type": "execute_result"
    }
   ],
   "source": [
    "df_heat_map[((df_heat_map>0).sum()[(df_heat_map>0).sum()>3]).index]"
   ]
  },
  {
   "cell_type": "code",
   "execution_count": 177,
   "metadata": {},
   "outputs": [
    {
     "name": "stdout",
     "output_type": "stream",
     "text": [
      "(35, 53)\n"
     ]
    },
    {
     "data": {
      "text/plain": [
       "<AxesSubplot: xlabel='Target', ylabel='Source'>"
      ]
     },
     "execution_count": 177,
     "metadata": {},
     "output_type": "execute_result"
    },
    {
     "data": {
      "image/png": "[encoded data removed]",
      "text/plain": [
       "<Figure size 2000x2000 with 2 Axes>"
      ]
     },
     "metadata": {},
     "output_type": "display_data"
    }
   ],
   "source": [
    "df_columns_heatmap=df_heat_map[((df_heat_map>0).sum()[(df_heat_map>0).sum()>3]).index]\n",
    "df_columns_heatmap=df_columns_heatmap[((df_columns_heatmap>3).sum(axis=1)>0)]\n",
    "print(df_columns_heatmap.shape)\n",
    "\n",
    "plt.figure(figsize=(20,20))\n",
    "sns.heatmap(df_columns_heatmap,cmap=\"YlGnBu\")\n"
   ]
  },
  {
   "cell_type": "code",
   "execution_count": 178,
   "metadata": {},
   "outputs": [
    {
     "data": {
      "text/html": [
       "<div>\n",
       "<style scoped>\n",
       "    .dataframe tbody tr th:only-of-type {\n",
       "        vertical-align: middle;\n",
       "    }\n",
       "\n",
       "    .dataframe tbody tr th {\n",
       "        vertical-align: top;\n",
       "    }\n",
       "\n",
       "    .dataframe thead th {\n",
       "        text-align: right;\n",
       "    }\n",
       "</style>\n",
       "<table border=\"1\" class=\"dataframe\">\n",
       "  <thead>\n",
       "    <tr style=\"text-align: right;\">\n",
       "      <th></th>\n",
       "      <th>Source</th>\n",
       "      <th>Target</th>\n",
       "      <th>Type</th>\n",
       "      <th>Weight</th>\n",
       "    </tr>\n",
       "  </thead>\n",
       "  <tbody>\n",
       "    <tr>\n",
       "      <th>0</th>\n",
       "      <td>@04elisabeth</td>\n",
       "      <td>@asnasalvaje</td>\n",
       "      <td>Mencion</td>\n",
       "      <td>1</td>\n",
       "    </tr>\n",
       "    <tr>\n",
       "      <th>1</th>\n",
       "      <td>@04elisabeth</td>\n",
       "      <td>@davivienda</td>\n",
       "      <td>Mencion</td>\n",
       "      <td>5</td>\n",
       "    </tr>\n",
       "    <tr>\n",
       "      <th>2</th>\n",
       "      <td>@04elisabeth</td>\n",
       "      <td>@sfcsupervisor</td>\n",
       "      <td>Mencion</td>\n",
       "      <td>1</td>\n",
       "    </tr>\n",
       "    <tr>\n",
       "      <th>3</th>\n",
       "      <td>@04elisabeth</td>\n",
       "      <td>@sicsuper</td>\n",
       "      <td>Mencion</td>\n",
       "      <td>1</td>\n",
       "    </tr>\n",
       "    <tr>\n",
       "      <th>4</th>\n",
       "      <td>@04elisabeth</td>\n",
       "      <td>@wilsonariasc</td>\n",
       "      <td>Mencion</td>\n",
       "      <td>1</td>\n",
       "    </tr>\n",
       "    <tr>\n",
       "      <th>...</th>\n",
       "      <td>...</td>\n",
       "      <td>...</td>\n",
       "      <td>...</td>\n",
       "      <td>...</td>\n",
       "    </tr>\n",
       "    <tr>\n",
       "      <th>2170</th>\n",
       "      <td>@sergiogomezf</td>\n",
       "      <td>@davivienda</td>\n",
       "      <td>Mencion</td>\n",
       "      <td>4</td>\n",
       "    </tr>\n",
       "    <tr>\n",
       "      <th>2200</th>\n",
       "      <td>@soniajannethba</td>\n",
       "      <td>@davivienda</td>\n",
       "      <td>Mencion</td>\n",
       "      <td>5</td>\n",
       "    </tr>\n",
       "    <tr>\n",
       "      <th>2231</th>\n",
       "      <td>@steffyjz</td>\n",
       "      <td>@daviescucha</td>\n",
       "      <td>Mencion</td>\n",
       "      <td>2</td>\n",
       "    </tr>\n",
       "    <tr>\n",
       "      <th>2232</th>\n",
       "      <td>@steffyjz</td>\n",
       "      <td>@davivienda</td>\n",
       "      <td>Mencion</td>\n",
       "      <td>4</td>\n",
       "    </tr>\n",
       "    <tr>\n",
       "      <th>2233</th>\n",
       "      <td>@steffyjz</td>\n",
       "      <td>@telefonorojo</td>\n",
       "      <td>Mencion</td>\n",
       "      <td>1</td>\n",
       "    </tr>\n",
       "  </tbody>\n",
       "</table>\n",
       "<p>92 rows × 4 columns</p>\n",
       "</div>"
      ],
      "text/plain": [
       "               Source          Target     Type  Weight\n",
       "0        @04elisabeth    @asnasalvaje  Mencion       1\n",
       "1        @04elisabeth     @davivienda  Mencion       5\n",
       "2        @04elisabeth  @sfcsupervisor  Mencion       1\n",
       "3        @04elisabeth       @sicsuper  Mencion       1\n",
       "4        @04elisabeth   @wilsonariasc  Mencion       1\n",
       "...               ...             ...      ...     ...\n",
       "2170    @sergiogomezf     @davivienda  Mencion       4\n",
       "2200  @soniajannethba     @davivienda  Mencion       5\n",
       "2231        @steffyjz    @daviescucha  Mencion       2\n",
       "2232        @steffyjz     @davivienda  Mencion       4\n",
       "2233        @steffyjz   @telefonorojo  Mencion       1\n",
       "\n",
       "[92 rows x 4 columns]"
      ]
     },
     "execution_count": 178,
     "metadata": {},
     "output_type": "execute_result"
    }
   ],
   "source": [
    "df_1=df_edges_mencion[df_edges_mencion['Source'].isin(df_columns_heatmap.index)]\n",
    "df_1=df_1[df_1['Target'].isin(df_columns_heatmap.columns)]\n",
    "df_1"
   ]
  },
  {
   "cell_type": "code",
   "execution_count": 179,
   "metadata": {},
   "outputs": [],
   "source": [
    "labels_df1=enumerate(list(set(list(df_1.Source)+list(df_1.Target))))\n",
    "labels_df1=dict((y,x) for x,y in labels_df1)\n",
    "\n",
    "df_1['Source_num']=df_1['Source'].apply(lambda x: labels_df1[x])\n",
    "df_1['Target_num']=df_1['Target'].apply(lambda x: labels_df1[x])"
   ]
  },
  {
   "cell_type": "code",
   "execution_count": 180,
   "metadata": {},
   "outputs": [
    {
     "data": {
      "application/vnd.plotly.v1+json": {
       "config": {
        "plotlyServerURL": "https://plot.ly"
       },
       "data": [
        {
         "link": {
          "source": [
           39,
           39,
           39,
           39,
           39,
           21,
           21,
           52,
           52,
           36,
           36,
           13,
           13,
           25,
           25,
           27,
           27,
           27,
           6,
           6,
           6,
           6,
           35,
           35,
           35,
           35,
           26,
           33,
           33,
           33,
           33,
           33,
           33,
           16,
           16,
           16,
           23,
           23,
           5,
           5,
           5,
           0,
           0,
           0,
           20,
           45,
           45,
           1,
           1,
           15,
           15,
           12,
           12,
           12,
           53,
           53,
           53,
           53,
           22,
           22,
           22,
           22,
           22,
           47,
           47,
           47,
           47,
           47,
           47,
           18,
           18,
           30,
           41,
           41,
           32,
           32,
           32,
           48,
           43,
           43,
           43,
           43,
           3,
           3,
           7,
           7,
           14,
           44,
           29,
           31,
           31,
           31
          ],
          "target": [
           19,
           37,
           40,
           9,
           24,
           37,
           24,
           10,
           37,
           37,
           30,
           37,
           24,
           37,
           40,
           10,
           37,
           40,
           2,
           37,
           33,
           8,
           17,
           37,
           40,
           9,
           37,
           2,
           50,
           42,
           37,
           34,
           8,
           19,
           37,
           40,
           37,
           24,
           10,
           37,
           40,
           37,
           49,
           24,
           37,
           37,
           38,
           37,
           40,
           37,
           40,
           28,
           37,
           40,
           10,
           37,
           40,
           9,
           2,
           37,
           33,
           4,
           8,
           2,
           42,
           37,
           33,
           4,
           8,
           37,
           9,
           37,
           37,
           11,
           10,
           37,
           9,
           37,
           37,
           51,
           38,
           24,
           51,
           40,
           28,
           37,
           37,
           37,
           37,
           17,
           37,
           46
          ],
          "value": [
           1,
           5,
           1,
           1,
           1,
           4,
           1,
           2,
           4,
           5,
           3,
           4,
           4,
           5,
           3,
           32,
           41,
           6,
           3,
           4,
           3,
           4,
           1,
           5,
           1,
           1,
           4,
           7,
           2,
           4,
           9,
           1,
           5,
           1,
           5,
           1,
           6,
           13,
           6,
           9,
           5,
           5,
           1,
           4,
           5,
           4,
           3,
           4,
           2,
           4,
           1,
           7,
           8,
           2,
           8,
           4,
           4,
           8,
           1,
           3,
           4,
           1,
           2,
           6,
           1,
           4,
           5,
           1,
           3,
           4,
           1,
           5,
           4,
           3,
           3,
           4,
           1,
           4,
           4,
           1,
           2,
           1,
           5,
           1,
           2,
           4,
           5,
           4,
           5,
           2,
           4,
           1
          ]
         },
         "node": {
          "label": [
           "@gbaquerorincon",
           "@iam_crisfer",
           "@binance",
           "@oscatorex",
           "@fernandhovilla",
           "@fabiofernandoh1",
           "@danielp78061978",
           "@robertoriverosa",
           "@noticiasrcn",
           "@sicsuper",
           "@daviplata",
           "@ssf_elsalvador",
           "@joacoro",
           "@arthurdux1",
           "@sago2022",
           "@jahsc12",
           "@eljulisoquete",
           "@daviescucha",
           "@juanskulll",
           "@asnasalvaje",
           "@godolaxo",
           "@alfredmaggiore",
           "@josecastanj",
           "@enriquedelgadop",
           "@wilsonariasc",
           "@berzota",
           "@dianhagr",
           "@cnoguera20",
           "@bancolombia",
           "@soniajannethba",
           "@karlaarcila",
           "@steffyjz",
           "@manuelvasquez_1",
           "@edimejia1979",
           "@jcecheverrycol",
           "@davicorredores",
           "@andresoso",
           "@davivienda",
           "@segurosbolivar",
           "@04elisabeth",
           "@sfcsupervisor",
           "@lopez65",
           "@cz_binance",
           "@oasisp18",
           "@sergiogomezf",
           "@guilloromeros",
           "@telefonorojo",
           "@juanma7725",
           "@mconversadas",
           "@jorge_montreal",
           "@binancees",
           "@marianiniecheve",
           "@alvaroantonio_2",
           "@johnsonmtb"
          ],
          "line": {
           "color": "black",
           "width": 0.5
          },
          "pad": 15,
          "thickness": 20
         },
         "type": "sankey"
        }
       ],
       "layout": {
        "font": {
         "size": 10
        },
        "template": {
         "data": {
          "bar": [
           {
            "error_x": {
             "color": "#2a3f5f"
            },
            "error_y": {
             "color": "#2a3f5f"
            },
            "marker": {
             "line": {
              "color": "#E5ECF6",
              "width": 0.5
             },
             "pattern": {
              "fillmode": "overlay",
              "size": 10,
              "solidity": 0.2
             }
            },
            "type": "bar"
           }
          ],
          "barpolar": [
           {
            "marker": {
             "line": {
              "color": "#E5ECF6",
              "width": 0.5
             },
             "pattern": {
              "fillmode": "overlay",
              "size": 10,
              "solidity": 0.2
             }
            },
            "type": "barpolar"
           }
          ],
          "carpet": [
           {
            "aaxis": {
             "endlinecolor": "#2a3f5f",
             "gridcolor": "white",
             "linecolor": "white",
             "minorgridcolor": "white",
             "startlinecolor": "#2a3f5f"
            },
            "baxis": {
             "endlinecolor": "#2a3f5f",
             "gridcolor": "white",
             "linecolor": "white",
             "minorgridcolor": "white",
             "startlinecolor": "#2a3f5f"
            },
            "type": "carpet"
           }
          ],
          "choropleth": [
           {
            "colorbar": {
             "outlinewidth": 0,
             "ticks": ""
            },
            "type": "choropleth"
           }
          ],
          "contour": [
           {
            "colorbar": {
             "outlinewidth": 0,
             "ticks": ""
            },
            "colorscale": [
             [
              0,
              "#0d0887"
             ],
             [
              0.1111111111111111,
              "#46039f"
             ],
             [
              0.2222222222222222,
              "#7201a8"
             ],
             [
              0.3333333333333333,
              "#9c179e"
             ],
             [
              0.4444444444444444,
              "#bd3786"
             ],
             [
              0.5555555555555556,
              "#d8576b"
             ],
             [
              0.6666666666666666,
              "#ed7953"
             ],
             [
              0.7777777777777778,
              "#fb9f3a"
             ],
             [
              0.8888888888888888,
              "#fdca26"
             ],
             [
              1,
              "#f0f921"
             ]
            ],
            "type": "contour"
           }
          ],
          "contourcarpet": [
           {
            "colorbar": {
             "outlinewidth": 0,
             "ticks": ""
            },
            "type": "contourcarpet"
           }
          ],
          "heatmap": [
           {
            "colorbar": {
             "outlinewidth": 0,
             "ticks": ""
            },
            "colorscale": [
             [
              0,
              "#0d0887"
             ],
             [
              0.1111111111111111,
              "#46039f"
             ],
             [
              0.2222222222222222,
              "#7201a8"
             ],
             [
              0.3333333333333333,
              "#9c179e"
             ],
             [
              0.4444444444444444,
              "#bd3786"
             ],
             [
              0.5555555555555556,
              "#d8576b"
             ],
             [
              0.6666666666666666,
              "#ed7953"
             ],
             [
              0.7777777777777778,
              "#fb9f3a"
             ],
             [
              0.8888888888888888,
              "#fdca26"
             ],
             [
              1,
              "#f0f921"
             ]
            ],
            "type": "heatmap"
           }
          ],
          "heatmapgl": [
           {
            "colorbar": {
             "outlinewidth": 0,
             "ticks": ""
            },
            "colorscale": [
             [
              0,
              "#0d0887"
             ],
             [
              0.1111111111111111,
              "#46039f"
             ],
             [
              0.2222222222222222,
              "#7201a8"
             ],
             [
              0.3333333333333333,
              "#9c179e"
             ],
             [
              0.4444444444444444,
              "#bd3786"
             ],
             [
              0.5555555555555556,
              "#d8576b"
             ],
             [
              0.6666666666666666,
              "#ed7953"
             ],
             [
              0.7777777777777778,
              "#fb9f3a"
             ],
             [
              0.8888888888888888,
              "#fdca26"
             ],
             [
              1,
              "#f0f921"
             ]
            ],
            "type": "heatmapgl"
           }
          ],
          "histogram": [
           {
            "marker": {
             "pattern": {
              "fillmode": "overlay",
              "size": 10,
              "solidity": 0.2
             }
            },
            "type": "histogram"
           }
          ],
          "histogram2d": [
           {
            "colorbar": {
             "outlinewidth": 0,
             "ticks": ""
            },
            "colorscale": [
             [
              0,
              "#0d0887"
             ],
             [
              0.1111111111111111,
              "#46039f"
             ],
             [
              0.2222222222222222,
              "#7201a8"
             ],
             [
              0.3333333333333333,
              "#9c179e"
             ],
             [
              0.4444444444444444,
              "#bd3786"
             ],
             [
              0.5555555555555556,
              "#d8576b"
             ],
             [
              0.6666666666666666,
              "#ed7953"
             ],
             [
              0.7777777777777778,
              "#fb9f3a"
             ],
             [
              0.8888888888888888,
              "#fdca26"
             ],
             [
              1,
              "#f0f921"
             ]
            ],
            "type": "histogram2d"
           }
          ],
          "histogram2dcontour": [
           {
            "colorbar": {
             "outlinewidth": 0,
             "ticks": ""
            },
            "colorscale": [
             [
              0,
              "#0d0887"
             ],
             [
              0.1111111111111111,
              "#46039f"
             ],
             [
              0.2222222222222222,
              "#7201a8"
             ],
             [
              0.3333333333333333,
              "#9c179e"
             ],
             [
              0.4444444444444444,
              "#bd3786"
             ],
             [
              0.5555555555555556,
              "#d8576b"
             ],
             [
              0.6666666666666666,
              "#ed7953"
             ],
             [
              0.7777777777777778,
              "#fb9f3a"
             ],
             [
              0.8888888888888888,
              "#fdca26"
             ],
             [
              1,
              "#f0f921"
             ]
            ],
            "type": "histogram2dcontour"
           }
          ],
          "mesh3d": [
           {
            "colorbar": {
             "outlinewidth": 0,
             "ticks": ""
            },
            "type": "mesh3d"
           }
          ],
          "parcoords": [
           {
            "line": {
             "colorbar": {
              "outlinewidth": 0,
              "ticks": ""
             }
            },
            "type": "parcoords"
           }
          ],
          "pie": [
           {
            "automargin": true,
            "type": "pie"
           }
          ],
          "scatter": [
           {
            "fillpattern": {
             "fillmode": "overlay",
             "size": 10,
             "solidity": 0.2
            },
            "type": "scatter"
           }
          ],
          "scatter3d": [
           {
            "line": {
             "colorbar": {
              "outlinewidth": 0,
              "ticks": ""
             }
            },
            "marker": {
             "colorbar": {
              "outlinewidth": 0,
              "ticks": ""
             }
            },
            "type": "scatter3d"
           }
          ],
          "scattercarpet": [
           {
            "marker": {
             "colorbar": {
              "outlinewidth": 0,
              "ticks": ""
             }
            },
            "type": "scattercarpet"
           }
          ],
          "scattergeo": [
           {
            "marker": {
             "colorbar": {
              "outlinewidth": 0,
              "ticks": ""
             }
            },
            "type": "scattergeo"
           }
          ],
          "scattergl": [
           {
            "marker": {
             "colorbar": {
              "outlinewidth": 0,
              "ticks": ""
             }
            },
            "type": "scattergl"
           }
          ],
          "scattermapbox": [
           {
            "marker": {
             "colorbar": {
              "outlinewidth": 0,
              "ticks": ""
             }
            },
            "type": "scattermapbox"
           }
          ],
          "scatterpolar": [
           {
            "marker": {
             "colorbar": {
              "outlinewidth": 0,
              "ticks": ""
             }
            },
            "type": "scatterpolar"
           }
          ],
          "scatterpolargl": [
           {
            "marker": {
             "colorbar": {
              "outlinewidth": 0,
              "ticks": ""
             }
            },
            "type": "scatterpolargl"
           }
          ],
          "scatterternary": [
           {
            "marker": {
             "colorbar": {
              "outlinewidth": 0,
              "ticks": ""
             }
            },
            "type": "scatterternary"
           }
          ],
          "surface": [
           {
            "colorbar": {
             "outlinewidth": 0,
             "ticks": ""
            },
            "colorscale": [
             [
              0,
              "#0d0887"
             ],
             [
              0.1111111111111111,
              "#46039f"
             ],
             [
              0.2222222222222222,
              "#7201a8"
             ],
             [
              0.3333333333333333,
              "#9c179e"
             ],
             [
              0.4444444444444444,
              "#bd3786"
             ],
             [
              0.5555555555555556,
              "#d8576b"
             ],
             [
              0.6666666666666666,
              "#ed7953"
             ],
             [
              0.7777777777777778,
              "#fb9f3a"
             ],
             [
              0.8888888888888888,
              "#fdca26"
             ],
             [
              1,
              "#f0f921"
             ]
            ],
            "type": "surface"
           }
          ],
          "table": [
           {
            "cells": {
             "fill": {
              "color": "#EBF0F8"
             },
             "line": {
              "color": "white"
             }
            },
            "header": {
             "fill": {
              "color": "#C8D4E3"
             },
             "line": {
              "color": "white"
             }
            },
            "type": "table"
           }
          ]
         },
         "layout": {
          "annotationdefaults": {
           "arrowcolor": "#2a3f5f",
           "arrowhead": 0,
           "arrowwidth": 1
          },
          "autotypenumbers": "strict",
          "coloraxis": {
           "colorbar": {
            "outlinewidth": 0,
            "ticks": ""
           }
          },
          "colorscale": {
           "diverging": [
            [
             0,
             "#8e0152"
            ],
            [
             0.1,
             "#c51b7d"
            ],
            [
             0.2,
             "#de77ae"
            ],
            [
             0.3,
             "#f1b6da"
            ],
            [
             0.4,
             "#fde0ef"
            ],
            [
             0.5,
             "#f7f7f7"
            ],
            [
             0.6,
             "#e6f5d0"
            ],
            [
             0.7,
             "#b8e186"
            ],
            [
             0.8,
             "#7fbc41"
            ],
            [
             0.9,
             "#4d9221"
            ],
            [
             1,
             "#276419"
            ]
           ],
           "sequential": [
            [
             0,
             "#0d0887"
            ],
            [
             0.1111111111111111,
             "#46039f"
            ],
            [
             0.2222222222222222,
             "#7201a8"
            ],
            [
             0.3333333333333333,
             "#9c179e"
            ],
            [
             0.4444444444444444,
             "#bd3786"
            ],
            [
             0.5555555555555556,
             "#d8576b"
            ],
            [
             0.6666666666666666,
             "#ed7953"
            ],
            [
             0.7777777777777778,
             "#fb9f3a"
            ],
            [
             0.8888888888888888,
             "#fdca26"
            ],
            [
             1,
             "#f0f921"
            ]
           ],
           "sequentialminus": [
            [
             0,
             "#0d0887"
            ],
            [
             0.1111111111111111,
             "#46039f"
            ],
            [
             0.2222222222222222,
             "#7201a8"
            ],
            [
             0.3333333333333333,
             "#9c179e"
            ],
            [
             0.4444444444444444,
             "#bd3786"
            ],
            [
             0.5555555555555556,
             "#d8576b"
            ],
            [
             0.6666666666666666,
             "#ed7953"
            ],
            [
             0.7777777777777778,
             "#fb9f3a"
            ],
            [
             0.8888888888888888,
             "#fdca26"
            ],
            [
             1,
             "#f0f921"
            ]
           ]
          },
          "colorway": [
           "#636efa",
           "#EF553B",
           "#00cc96",
           "#ab63fa",
           "#FFA15A",
           "#19d3f3",
           "#FF6692",
           "#B6E880",
           "#FF97FF",
           "#FECB52"
          ],
          "font": {
           "color": "#2a3f5f"
          },
          "geo": {
           "bgcolor": "white",
           "lakecolor": "white",
           "landcolor": "#E5ECF6",
           "showlakes": true,
           "showland": true,
           "subunitcolor": "white"
          },
          "hoverlabel": {
           "align": "left"
          },
          "hovermode": "closest",
          "mapbox": {
           "style": "light"
          },
          "paper_bgcolor": "white",
          "plot_bgcolor": "#E5ECF6",
          "polar": {
           "angularaxis": {
            "gridcolor": "white",
            "linecolor": "white",
            "ticks": ""
           },
           "bgcolor": "#E5ECF6",
           "radialaxis": {
            "gridcolor": "white",
            "linecolor": "white",
            "ticks": ""
           }
          },
          "scene": {
           "xaxis": {
            "backgroundcolor": "#E5ECF6",
            "gridcolor": "white",
            "gridwidth": 2,
            "linecolor": "white",
            "showbackground": true,
            "ticks": "",
            "zerolinecolor": "white"
           },
           "yaxis": {
            "backgroundcolor": "#E5ECF6",
            "gridcolor": "white",
            "gridwidth": 2,
            "linecolor": "white",
            "showbackground": true,
            "ticks": "",
            "zerolinecolor": "white"
           },
           "zaxis": {
            "backgroundcolor": "#E5ECF6",
            "gridcolor": "white",
            "gridwidth": 2,
            "linecolor": "white",
            "showbackground": true,
            "ticks": "",
            "zerolinecolor": "white"
           }
          },
          "shapedefaults": {
           "line": {
            "color": "#2a3f5f"
           }
          },
          "ternary": {
           "aaxis": {
            "gridcolor": "white",
            "linecolor": "white",
            "ticks": ""
           },
           "baxis": {
            "gridcolor": "white",
            "linecolor": "white",
            "ticks": ""
           },
           "bgcolor": "#E5ECF6",
           "caxis": {
            "gridcolor": "white",
            "linecolor": "white",
            "ticks": ""
           }
          },
          "title": {
           "x": 0.05
          },
          "xaxis": {
           "automargin": true,
           "gridcolor": "white",
           "linecolor": "white",
           "ticks": "",
           "title": {
            "standoff": 15
           },
           "zerolinecolor": "white",
           "zerolinewidth": 2
          },
          "yaxis": {
           "automargin": true,
           "gridcolor": "white",
           "linecolor": "white",
           "ticks": "",
           "title": {
            "standoff": 15
           },
           "zerolinecolor": "white",
           "zerolinewidth": 2
          }
         }
        },
        "title": {
         "text": "Basic Sankey Diagram"
        }
       }
      }
     },
     "metadata": {},
     "output_type": "display_data"
    }
   ],
   "source": [
    "fig = go.Figure(data=[go.Sankey(\n",
    "    node = dict(\n",
    "      pad = 15,\n",
    "      thickness = 20,\n",
    "      line = dict(color = \"black\", width = 0.5),\n",
    "      label = list(set(list(df_1.Source)+list(df_1.Target)))\n",
    "    ),\n",
    "    link = dict(\n",
    "      source = df_1['Source_num'], # indices correspond to labels, eg A1, A2, A1, B1, ...\n",
    "      target = df_1['Target_num'],\n",
    "      value = df_1['Weight']\n",
    "  ))])\n",
    "\n",
    "fig.update_layout(title_text=\"Basic Sankey Diagram\", font_size=10)\n",
    "fig.show()"
   ]
  },
  {
   "cell_type": "code",
   "execution_count": 68,
   "metadata": {},
   "outputs": [
    {
     "data": {
      "text/html": [
       "<div>\n",
       "<style scoped>\n",
       "    .dataframe tbody tr th:only-of-type {\n",
       "        vertical-align: middle;\n",
       "    }\n",
       "\n",
       "    .dataframe tbody tr th {\n",
       "        vertical-align: top;\n",
       "    }\n",
       "\n",
       "    .dataframe thead th {\n",
       "        text-align: right;\n",
       "    }\n",
       "</style>\n",
       "<table border=\"1\" class=\"dataframe\">\n",
       "  <thead>\n",
       "    <tr style=\"text-align: right;\">\n",
       "      <th></th>\n",
       "      <th>Source</th>\n",
       "      <th>Target</th>\n",
       "      <th>Weight</th>\n",
       "    </tr>\n",
       "  </thead>\n",
       "  <tbody>\n",
       "    <tr>\n",
       "      <th>142</th>\n",
       "      <td>@Davivienda</td>\n",
       "      <td>208</td>\n",
       "      <td>248</td>\n",
       "    </tr>\n",
       "    <tr>\n",
       "      <th>334</th>\n",
       "      <td>@Juanma7725</td>\n",
       "      <td>11</td>\n",
       "      <td>27</td>\n",
       "    </tr>\n",
       "    <tr>\n",
       "      <th>1000</th>\n",
       "      <td>@santini_es</td>\n",
       "      <td>10</td>\n",
       "      <td>10</td>\n",
       "    </tr>\n",
       "    <tr>\n",
       "      <th>686</th>\n",
       "      <td>@davicorredores</td>\n",
       "      <td>10</td>\n",
       "      <td>22</td>\n",
       "    </tr>\n",
       "    <tr>\n",
       "      <th>244</th>\n",
       "      <td>@Guilloromeros</td>\n",
       "      <td>9</td>\n",
       "      <td>22</td>\n",
       "    </tr>\n",
       "    <tr>\n",
       "      <th>811</th>\n",
       "      <td>@johnsonmtb</td>\n",
       "      <td>8</td>\n",
       "      <td>40</td>\n",
       "    </tr>\n",
       "    <tr>\n",
       "      <th>128</th>\n",
       "      <td>@DamarisMarino</td>\n",
       "      <td>8</td>\n",
       "      <td>8</td>\n",
       "    </tr>\n",
       "    <tr>\n",
       "      <th>171</th>\n",
       "      <td>@Edimejia1979</td>\n",
       "      <td>8</td>\n",
       "      <td>32</td>\n",
       "    </tr>\n",
       "    <tr>\n",
       "      <th>844</th>\n",
       "      <td>@julioorozco29</td>\n",
       "      <td>7</td>\n",
       "      <td>10</td>\n",
       "    </tr>\n",
       "    <tr>\n",
       "      <th>194</th>\n",
       "      <td>@EnriqueDelgadoP</td>\n",
       "      <td>7</td>\n",
       "      <td>24</td>\n",
       "    </tr>\n",
       "    <tr>\n",
       "      <th>779</th>\n",
       "      <td>@ilich2586</td>\n",
       "      <td>6</td>\n",
       "      <td>7</td>\n",
       "    </tr>\n",
       "    <tr>\n",
       "      <th>610</th>\n",
       "      <td>@andresoso</td>\n",
       "      <td>6</td>\n",
       "      <td>12</td>\n",
       "    </tr>\n",
       "    <tr>\n",
       "      <th>758</th>\n",
       "      <td>@gleniiaaa</td>\n",
       "      <td>6</td>\n",
       "      <td>8</td>\n",
       "    </tr>\n",
       "    <tr>\n",
       "      <th>818</th>\n",
       "      <td>@josecastanj</td>\n",
       "      <td>6</td>\n",
       "      <td>12</td>\n",
       "    </tr>\n",
       "    <tr>\n",
       "      <th>57</th>\n",
       "      <td>@Aposada151</td>\n",
       "      <td>6</td>\n",
       "      <td>6</td>\n",
       "    </tr>\n",
       "    <tr>\n",
       "      <th>433</th>\n",
       "      <td>@Nando79208857</td>\n",
       "      <td>6</td>\n",
       "      <td>6</td>\n",
       "    </tr>\n",
       "    <tr>\n",
       "      <th>452</th>\n",
       "      <td>@Omitar69</td>\n",
       "      <td>6</td>\n",
       "      <td>7</td>\n",
       "    </tr>\n",
       "    <tr>\n",
       "      <th>79</th>\n",
       "      <td>@BornacelliJimmy</td>\n",
       "      <td>6</td>\n",
       "      <td>10</td>\n",
       "    </tr>\n",
       "    <tr>\n",
       "      <th>799</th>\n",
       "      <td>@jesualmar1</td>\n",
       "      <td>6</td>\n",
       "      <td>6</td>\n",
       "    </tr>\n",
       "    <tr>\n",
       "      <th>951</th>\n",
       "      <td>@omazoandres</td>\n",
       "      <td>6</td>\n",
       "      <td>8</td>\n",
       "    </tr>\n",
       "  </tbody>\n",
       "</table>\n",
       "</div>"
      ],
      "text/plain": [
       "                Source  Target  Weight\n",
       "142        @Davivienda     208     248\n",
       "334        @Juanma7725      11      27\n",
       "1000       @santini_es      10      10\n",
       "686    @davicorredores      10      22\n",
       "244     @Guilloromeros       9      22\n",
       "811        @johnsonmtb       8      40\n",
       "128     @DamarisMarino       8       8\n",
       "171      @Edimejia1979       8      32\n",
       "844     @julioorozco29       7      10\n",
       "194   @EnriqueDelgadoP       7      24\n",
       "779         @ilich2586       6       7\n",
       "610         @andresoso       6      12\n",
       "758         @gleniiaaa       6       8\n",
       "818       @josecastanj       6      12\n",
       "57         @Aposada151       6       6\n",
       "433     @Nando79208857       6       6\n",
       "452          @Omitar69       6       7\n",
       "79    @BornacelliJimmy       6      10\n",
       "799        @jesualmar1       6       6\n",
       "951       @omazoandres       6       8"
      ]
     },
     "execution_count": 68,
     "metadata": {},
     "output_type": "execute_result"
    }
   ],
   "source": [
    "## Veamos las relaciones de usuarios agrupando y ordenando por cantidad de menciones\n",
    "\n",
    "df_agrupacion_fuente=df_edges_mencion.groupby(['Source']).agg({'Target':'count','Weight':'sum'}).reset_index()\n",
    "df_agrupacion_fuente.sort_values(by=['Target'],ascending=False,inplace=True)\n",
    "df_agrupacion_fuente.head(20)"
   ]
  },
  {
   "cell_type": "code",
   "execution_count": 70,
   "metadata": {},
   "outputs": [
    {
     "data": {
      "text/html": [
       "<div>\n",
       "<style scoped>\n",
       "    .dataframe tbody tr th:only-of-type {\n",
       "        vertical-align: middle;\n",
       "    }\n",
       "\n",
       "    .dataframe tbody tr th {\n",
       "        vertical-align: top;\n",
       "    }\n",
       "\n",
       "    .dataframe thead th {\n",
       "        text-align: right;\n",
       "    }\n",
       "</style>\n",
       "<table border=\"1\" class=\"dataframe\">\n",
       "  <thead>\n",
       "    <tr style=\"text-align: right;\">\n",
       "      <th></th>\n",
       "      <th>Target</th>\n",
       "      <th>Source</th>\n",
       "      <th>Weight</th>\n",
       "    </tr>\n",
       "  </thead>\n",
       "  <tbody>\n",
       "    <tr>\n",
       "      <th>212</th>\n",
       "      <td>@davivienda</td>\n",
       "      <td>746</td>\n",
       "      <td>1103</td>\n",
       "    </tr>\n",
       "    <tr>\n",
       "      <th>832</th>\n",
       "      <td>@wilsonariasc</td>\n",
       "      <td>80</td>\n",
       "      <td>106</td>\n",
       "    </tr>\n",
       "    <tr>\n",
       "      <th>752</th>\n",
       "      <td>@sfcsupervisor</td>\n",
       "      <td>63</td>\n",
       "      <td>88</td>\n",
       "    </tr>\n",
       "    <tr>\n",
       "      <th>211</th>\n",
       "      <td>@daviplata</td>\n",
       "      <td>57</td>\n",
       "      <td>121</td>\n",
       "    </tr>\n",
       "    <tr>\n",
       "      <th>554</th>\n",
       "      <td>@marianiniecheve</td>\n",
       "      <td>53</td>\n",
       "      <td>60</td>\n",
       "    </tr>\n",
       "    <tr>\n",
       "      <th>71</th>\n",
       "      <td>@asnasalvaje</td>\n",
       "      <td>45</td>\n",
       "      <td>47</td>\n",
       "    </tr>\n",
       "    <tr>\n",
       "      <th>93</th>\n",
       "      <td>@bancolombia</td>\n",
       "      <td>44</td>\n",
       "      <td>54</td>\n",
       "    </tr>\n",
       "    <tr>\n",
       "      <th>744</th>\n",
       "      <td>@segurosbolivar</td>\n",
       "      <td>32</td>\n",
       "      <td>39</td>\n",
       "    </tr>\n",
       "    <tr>\n",
       "      <th>756</th>\n",
       "      <td>@sicsuper</td>\n",
       "      <td>20</td>\n",
       "      <td>27</td>\n",
       "    </tr>\n",
       "    <tr>\n",
       "      <th>473</th>\n",
       "      <td>@karlaarcila</td>\n",
       "      <td>20</td>\n",
       "      <td>25</td>\n",
       "    </tr>\n",
       "    <tr>\n",
       "      <th>47</th>\n",
       "      <td>@andrescepeda</td>\n",
       "      <td>13</td>\n",
       "      <td>17</td>\n",
       "    </tr>\n",
       "    <tr>\n",
       "      <th>623</th>\n",
       "      <td>@nequi</td>\n",
       "      <td>13</td>\n",
       "      <td>14</td>\n",
       "    </tr>\n",
       "    <tr>\n",
       "      <th>249</th>\n",
       "      <td>@edimejia1979</td>\n",
       "      <td>12</td>\n",
       "      <td>25</td>\n",
       "    </tr>\n",
       "    <tr>\n",
       "      <th>90</th>\n",
       "      <td>@bancodebogota</td>\n",
       "      <td>11</td>\n",
       "      <td>11</td>\n",
       "    </tr>\n",
       "    <tr>\n",
       "      <th>638</th>\n",
       "      <td>@noticiasrcn</td>\n",
       "      <td>10</td>\n",
       "      <td>22</td>\n",
       "    </tr>\n",
       "    <tr>\n",
       "      <th>672</th>\n",
       "      <td>@petrogustavo</td>\n",
       "      <td>10</td>\n",
       "      <td>10</td>\n",
       "    </tr>\n",
       "    <tr>\n",
       "      <th>312</th>\n",
       "      <td>@fiscaliacol</td>\n",
       "      <td>9</td>\n",
       "      <td>10</td>\n",
       "    </tr>\n",
       "    <tr>\n",
       "      <th>210</th>\n",
       "      <td>@daviescucha</td>\n",
       "      <td>9</td>\n",
       "      <td>11</td>\n",
       "    </tr>\n",
       "    <tr>\n",
       "      <th>431</th>\n",
       "      <td>@johnthekidus</td>\n",
       "      <td>8</td>\n",
       "      <td>8</td>\n",
       "    </tr>\n",
       "    <tr>\n",
       "      <th>111</th>\n",
       "      <td>@binance</td>\n",
       "      <td>8</td>\n",
       "      <td>22</td>\n",
       "    </tr>\n",
       "  </tbody>\n",
       "</table>\n",
       "</div>"
      ],
      "text/plain": [
       "               Target  Source  Weight\n",
       "212       @davivienda     746    1103\n",
       "832     @wilsonariasc      80     106\n",
       "752    @sfcsupervisor      63      88\n",
       "211        @daviplata      57     121\n",
       "554  @marianiniecheve      53      60\n",
       "71       @asnasalvaje      45      47\n",
       "93       @bancolombia      44      54\n",
       "744   @segurosbolivar      32      39\n",
       "756         @sicsuper      20      27\n",
       "473      @karlaarcila      20      25\n",
       "47      @andrescepeda      13      17\n",
       "623            @nequi      13      14\n",
       "249     @edimejia1979      12      25\n",
       "90     @bancodebogota      11      11\n",
       "638      @noticiasrcn      10      22\n",
       "672     @petrogustavo      10      10\n",
       "312      @fiscaliacol       9      10\n",
       "210      @daviescucha       9      11\n",
       "431     @johnthekidus       8       8\n",
       "111          @binance       8      22"
      ]
     },
     "execution_count": 70,
     "metadata": {},
     "output_type": "execute_result"
    }
   ],
   "source": [
    "df_agrupacion_mencionados=df_edges_mencion.groupby(['Target']).agg({'Source':'count','Weight':'sum'}).reset_index()\n",
    "df_agrupacion_mencionados.sort_values(by=['Source'],ascending=False,inplace=True)\n",
    "df_agrupacion_mencionados.head(20)"
   ]
  },
  {
   "cell_type": "code",
   "execution_count": 201,
   "metadata": {},
   "outputs": [],
   "source": [
    "user_relaciones=df_users_menciones[df_users_menciones['Weight']>3]\n",
    "edges_relaciones=df_edges_relacion[df_edges_relacion['Weight']>3]\n"
   ]
  },
  {
   "cell_type": "code",
   "execution_count": 204,
   "metadata": {},
   "outputs": [
    {
     "data": {
      "image/png": "[encoded data removed]",
      "text/plain": [
       "<Figure size 640x480 with 1 Axes>"
      ]
     },
     "metadata": {},
     "output_type": "display_data"
    }
   ],
   "source": [
    "### Pintamos las redes\n",
    "\n",
    "#nodes=user_relaciones[['Id','Label']]\n",
    "edges=edges_relaciones[['Source','Target','Weight']]\n",
    "G=nx.from_pandas_edgelist(edges, 'Source', 'Target', edge_attr=True, create_using=nx.Graph())\n",
    "#G.add_nodes_from(nodes['Id'].values)\n",
    "nx.draw(G, with_labels=True, node_size=10, font_size=8, node_color='red', edge_color='blue', width=0.5, alpha=0.5, arrowsize=1, arrowstyle='->', arrows=True)\n",
    "\n"
   ]
  },
  {
   "cell_type": "code",
   "execution_count": 205,
   "metadata": {},
   "outputs": [],
   "source": [
    "## Guardamos la información lograda hasta ahora\n",
    "df_tweets.to_csv(\"../Datos/tweets_procesados.csv\",index=False)\n",
    "df_users_menciones.to_csv(\"../Datos/usuarios_menciones.csv\",index=False)\n",
    "df_edges_mencion.to_csv(\"../Datos/relacion_menciones.csv\",index=False)\n",
    "df_edges_relacion.to_csv(\"../Datos/relacion_mencionados.csv\",index=False)\n",
    "\n"
   ]
  },
  {
   "cell_type": "code",
   "execution_count": 235,
   "metadata": {},
   "outputs": [],
   "source": [
    "## Hacemos un análisis de temas utilizando topic modeling\n",
    "## Preparamos los datos para el análisis de temas\n",
    "\n",
    "### Eliminamos los tweets que no tienen texto\n",
    "\n",
    "df_tweets_2=df_tweets.copy()\n",
    "df_tweets_2=df_tweets_2[df_tweets_2['Embedded_text'].notnull()]\n",
    "df_tweets_2=df_tweets_2[df_tweets_2['Embedded_text']!='']\n",
    "\n",
    "### procesamos el texto\n",
    "\n",
    "df_tweets_2['processed_text']=df_tweets_2['Embedded_text'].apply(lambda x: x.lower())\n",
    "df_tweets_2['processed_text']=df_tweets_2['processed_text'].apply(lambda x: re.sub(r'[^a-z0-9áéíóúñü@# ]', '', x))\n",
    "df_tweets_2['processed_text']=df_tweets_2['processed_text'].apply(lambda x: re.sub(r' +', ' ', x))\n",
    "df_tweets_2['processed_text']=df_tweets_2['processed_text'].apply(lambda x: x.strip())\n",
    "\n",
    "stopwords_es = nltk.corpus.stopwords.words('spanish')"
   ]
  },
  {
   "cell_type": "code",
   "execution_count": 224,
   "metadata": {},
   "outputs": [],
   "source": [
    "def tokenize(text: str) -> str:\n",
    "    \"\"\"Tokenize given text\"\"\"\n",
    "    \n",
    "    CUSTOM_FILTERS = [lambda x: x.lower(), strip_punctuation]\n",
    "    text = preprocess_string(text, CUSTOM_FILTERS)\n",
    "\n",
    "    return text\n"
   ]
  },
  {
   "cell_type": "code",
   "execution_count": 225,
   "metadata": {},
   "outputs": [],
   "source": [
    "nlp_spacy=spacy.load('es_core_news_sm')\n",
    "def lemmatize_spacy(text: str) -> str:\n",
    "    \"\"\"Lemmatize given text\"\"\"\n",
    "    return \" \".join([token.lemma_ for token in nlp_spacy(text)])\n",
    "\n",
    "doc_lemma = [lemmatize_spacy(doc) for doc in df_tweets_2['processed_text'].values]\n",
    "doc_tokens = [tokenize(doc) for doc in doc_lemma]\n",
    "bigram = gensim.models.Phrases(doc_tokens, threshold=100, min_count=5)\n",
    "doc_bigram = [bigram[doc_tokens[i]] for i in range(len(doc_tokens))]"
   ]
  },
  {
   "cell_type": "code",
   "execution_count": 233,
   "metadata": {},
   "outputs": [
    {
     "name": "stdout",
     "output_type": "stream",
     "text": [
      "el\n",
      "confianza\n",
      "él\n",
      "afectar\n",
      "el\n",
      "indicador\n",
      "de\n",
      "confianza\n",
      "davivienda\n",
      "tener\n",
      "uno\n",
      "leve\n",
      "caída\n",
      "en\n",
      "noviembre\n",
      "romper\n",
      "uno\n",
      "tendencia\n",
      "de\n",
      "cinco\n",
      "mes\n",
      "de\n",
      "mejora\n",
      "el\n",
      "indicador\n",
      "él\n",
      "deteriorar\n",
      "especialmente\n",
      "en\n",
      "el\n",
      "último\n",
      "semana\n",
      "del\n",
      "mes\n",
      "asociado\n",
      "al\n",
      "aumento\n",
      "en\n",
      "el\n",
      "tasa\n",
      "de\n",
      "cambio1719\n"
     ]
    }
   ],
   "source": [
    "for x in doc_bigram[0]:\n",
    "    print(x)"
   ]
  },
  {
   "cell_type": "code",
   "execution_count": 239,
   "metadata": {},
   "outputs": [],
   "source": [
    "doc_list=[]\n",
    "for sent in doc_bigram:\n",
    "    new_doc = [str(word) for word in sent if word not in stopwords_es and len(word)>3]\n",
    "    doc_list.append(new_doc)\n",
    "df_tweets_2['processed_text']=doc_list\n",
    "\n",
    "### Creamos el diccionario y el corpus\n",
    "\n",
    "dictionary = corpora.Dictionary(df_tweets_2['processed_text'].values)\n",
    "corpus = [dictionary.doc2bow(text) for text in df_tweets_2['processed_text'].values]\n"
   ]
  },
  {
   "cell_type": "code",
   "execution_count": 251,
   "metadata": {},
   "outputs": [],
   "source": [
    "import os\n",
    "os.environ[\"TOKENIZERS_PARALLELISM\"] = \"false\""
   ]
  },
  {
   "cell_type": "code",
   "execution_count": 252,
   "metadata": {},
   "outputs": [
    {
     "name": "stdout",
     "output_type": "stream",
     "text": [
      "Coherence score for 2 topics: 0.5109197310138296\n",
      "grupos 2 y coherencia: 0.5109197310138296\n",
      "Coherence score for 3 topics: 0.5165521422669112\n",
      "grupos 3 y coherencia: 0.5165521422669112\n",
      "Coherence score for 4 topics: 0.5199353436102598\n",
      "grupos 4 y coherencia: 0.5199353436102598\n",
      "Coherence score for 5 topics: 0.47985086404616134\n",
      "Coherence score for 6 topics: 0.45559158899934604\n",
      "Coherence score for 7 topics: 0.4929380739112959\n",
      "Coherence score for 8 topics: 0.5055075162340867\n",
      "Coherence score for 9 topics: 0.4995579929499534\n",
      "El mejor puntaje de coherence es 0.5199353436102598 para 4 temas\n"
     ]
    }
   ],
   "source": [
    "### amplicamos el modelo\n",
    "\n",
    "best_num=0\n",
    "best_coherence=0\n",
    "\n",
    "for i in range(2,10):\n",
    "    lda_model = gensim.models.ldamodel.LdaModel(corpus=corpus,\n",
    "                                            id2word=dictionary,\n",
    "                                            num_topics=i,\n",
    "                                            random_state=100,\n",
    "                                            update_every=1,\n",
    "                                            chunksize=100,\n",
    "                                            passes=10,\n",
    "                                            alpha='auto',\n",
    "                                            per_word_topics=True)\n",
    "    coherence_model=CoherenceModel(model=lda_model, texts=df_tweets_2['processed_text'].values, dictionary=dictionary, coherence='c_v')\n",
    "    coherence=coherence_model.get_coherence()\n",
    "    print(\"Coherence score for {} topics: {}\".format(i, coherence))\n",
    "\n",
    "    if coherence>best_coherence:\n",
    "        print(\"grupos {} y coherencia: {}\".format(i,coherence))\n",
    "        best_num =i\n",
    "        best_coherence=coherence\n",
    "\n",
    "print(\"El mejor puntaje de coherence es {} para {} temas\".format(best_coherence,best_num))\n",
    "\n",
    "\n"
   ]
  },
  {
   "cell_type": "code",
   "execution_count": 271,
   "metadata": {},
   "outputs": [
    {
     "name": "stdout",
     "output_type": "stream",
     "text": [
      "(0, '0.044*\"respuesta\" + 0.022*\"wilsonariasc\" + 0.015*\"davivienda\" + 0.010*\"daviviendir\" + 0.007*\"banco\" + 0.007*\"lugar_equivocado\" + 0.006*\"hablar\" + 0.005*\"daviviendano\" + 0.005*\"lugar\" + 0.004*\"empresa\"')\n",
      "(1, '0.040*\"davivienda\" + 0.037*\"respuesta\" + 0.022*\"hacer\" + 0.021*\"tener\" + 0.018*\"haber\" + 0.016*\"cuenta\" + 0.012*\"poder\" + 0.012*\"banco\" + 0.012*\"daviviendo\" + 0.011*\"daviplata\"')\n",
      "(2, '0.059*\"respuesta\" + 0.057*\"mensaje\" + 0.043*\"privado\" + 0.040*\"caso\" + 0.022*\"ayudar\" + 0.020*\"quedar_atento\" + 0.020*\"validar\" + 0.018*\"tarde\" + 0.018*\"detalle\" + 0.015*\"gusto\"')\n",
      "(3, '0.031*\"responder\" + 0.007*\"navidad\" + 0.007*\"mencionar\" + 0.007*\"llegar\" + 0.006*\"cobrar\" + 0.004*\"bien\" + 0.004*\"daviviendir\" + 0.004*\"daviviendo\" + 0.004*\"comercial\" + 0.004*\"prueba\"')\n"
     ]
    }
   ],
   "source": [
    "lda_model = gensim.models.ldamodel.LdaModel(corpus=corpus,\n",
    "                                            id2word=dictionary,\n",
    "                                            num_topics=best_num,\n",
    "                                            random_state=100,\n",
    "                                            update_every=1,\n",
    "                                            chunksize=100,\n",
    "                                            passes=10,\n",
    "                                            alpha='auto',\n",
    "                                            per_word_topics=True)\n",
    "\n",
    "for topic in lda_model.print_topics():\n",
    "    print(topic)\n"
   ]
  },
  {
   "cell_type": "code",
   "execution_count": 286,
   "metadata": {},
   "outputs": [
    {
     "data": {
      "text/plain": [
       "1    947\n",
       "0    316\n",
       "2    304\n",
       "3    244\n",
       "Name: Tema más probable, dtype: int64"
      ]
     },
     "execution_count": 286,
     "metadata": {},
     "output_type": "execute_result"
    }
   ],
   "source": [
    "topic_dist = lda_model[corpus]\n",
    "\n",
    "# Agregar distribución de temas a los datos\n",
    "df_tweets_2['Distribución de temas'] = [x for x in topic_dist]\n",
    "\n",
    "\n",
    "# Identificar el tema más probable para cada tweet\n",
    "Lista_temas=[]\n",
    "for i in df_tweets_2['Distribución de temas']:\n",
    "    df_temp=pd.DataFrame(i[0])\n",
    "    df_temp.columns=['Tema','Probabilidad']\n",
    "    df_temp.sort_values(by='Probabilidad',ascending=False,inplace=True)\n",
    "    Lista_temas.append(df_temp.iloc[0,0])\n",
    "df_tweets_2['Tema más probable']=Lista_temas\n",
    "\n",
    "# Guardar los datos\n",
    "df_tweets_2.to_csv(\"../Datos/tweets_procesados_temas.csv\",index=False)\n",
    "\n",
    "df_tweets_2['Tema más probable'].value_counts()"
   ]
  },
  {
   "cell_type": "code",
   "execution_count": 255,
   "metadata": {},
   "outputs": [
    {
     "name": "stderr",
     "output_type": "stream",
     "text": [
      "/home/izainea/miniconda3/lib/python3.10/site-packages/past/builtins/misc.py:45: DeprecationWarning: the imp module is deprecated in favour of importlib and slated for removal in Python 3.12; see the module's documentation for alternative uses\n",
      "  from imp import reload\n",
      "/home/izainea/miniconda3/lib/python3.10/site-packages/past/builtins/misc.py:45: DeprecationWarning: the imp module is deprecated in favour of importlib and slated for removal in Python 3.12; see the module's documentation for alternative uses\n",
      "  from imp import reload\n",
      "/home/izainea/miniconda3/lib/python3.10/site-packages/past/builtins/misc.py:45: DeprecationWarning: the imp module is deprecated in favour of importlib and slated for removal in Python 3.12; see the module's documentation for alternative uses\n",
      "  from imp import reload\n",
      "/home/izainea/miniconda3/lib/python3.10/site-packages/past/builtins/misc.py:45: DeprecationWarning: the imp module is deprecated in favour of importlib and slated for removal in Python 3.12; see the module's documentation for alternative uses\n",
      "  from imp import reload\n",
      "/home/izainea/miniconda3/lib/python3.10/site-packages/past/builtins/misc.py:45: DeprecationWarning: the imp module is deprecated in favour of importlib and slated for removal in Python 3.12; see the module's documentation for alternative uses\n",
      "  from imp import reload\n",
      "/home/izainea/miniconda3/lib/python3.10/site-packages/past/builtins/misc.py:45: DeprecationWarning: the imp module is deprecated in favour of importlib and slated for removal in Python 3.12; see the module's documentation for alternative uses\n",
      "  from imp import reload\n"
     ]
    },
    {
     "data": {
      "text/html": [
       "\n",
       "<link rel=\"stylesheet\" type=\"text/css\" href=\"https://cdn.jsdelivr.net/gh/bmabey/pyLDAvis@3.3.1/pyLDAvis/js/ldavis.v1.0.0.css\">\n",
       "\n",
       "\n",
       "<div id=\"ldavis_el371591403921748095205994808203\"></div>\n",
       "<script type=\"text/javascript\">\n",
       "\n",
       "var ldavis_el371591403921748095205994808203_data = {\"mdsDat\": {\"x\": [-0.12086200686382356, 0.31884357721667794, -0.10797378962532266, -0.09000778072753204], \"y\": [0.21412867690580656, 0.009029505567136066, -0.16225356579817785, -0.06090461667476499], \"topics\": [1, 2, 3, 4], \"cluster\": [1, 1, 1, 1], \"Freq\": [50.60582782560912, 20.351591876839475, 14.574321603646096, 14.468258693905312]}, \"tinfo\": {\"Term\": [\"mensaje\", \"respuesta\", \"privado\", \"caso\", \"davivienda\", \"responder\", \"hacer\", \"ayudar\", \"tener\", \"wilsonariasc\", \"quedar_atento\", \"validar\", \"haber\", \"tarde\", \"detalle\", \"cuenta\", \"gusto\", \"quedar_atentos1\", \"solicitud\", \"interno\", \"feliz\", \"daviplata\", \"lamentar\", \"saludo\", \"atento\", \"atenci\\u00f3n\", \"banco\", \"favor\", \"mejorar\", \"tarde_sr\", \"tener\", \"hacer\", \"haber\", \"cuenta\", \"daviplata\", \"dinero\", \"asnasalvaje\", \"pasar\", \"bancolombia\", \"soluci\\u00f3n\", \"servicio\", \"tarjeta\", \"plata\", \"cliente\", \"problema\", \"cajero\", \"mismo\", \"esperar\", \"saber\", \"solo\", \"sacar\", \"llamar\", \"hora\", \"ninguno\", \"pagar\", \"cr\\u00e9dito\", \"pedir\", \"usar\", \"oficina\", \"se\\u00f1or\", \"decir\", \"davivienda\", \"daviviendo\", \"banco\", \"poder\", \"respuesta\", \"seguir\", \"mensaje\", \"privado\", \"caso\", \"ayudar\", \"quedar_atento\", \"validar\", \"tarde\", \"detalle\", \"gusto\", \"quedar_atentos1\", \"solicitud\", \"interno\", \"feliz\", \"lamentar\", \"saludo\", \"atento\", \"atenci\\u00f3n\", \"mejorar\", \"favor\", \"tarde_sr\", \"atender\", \"favor_cont\\u00e1cteno\", \"brindar\", \"molestia_ocasionado\", \"disculpa\", \"favor_escriba\", \"querer_conocer\", \"canal\", \"experiencia\", \"antemano_ofrecer\", \"respuesta\", \"responder\", \"navidad\", \"llegar\", \"cobrar\", \"bien\", \"comercial\", \"marianiniecheve\", \"producto\", \"prueba\", \"descontar\", \"daviviendaen\", \"cuota\", \"solicitar\", \"scotiabank\", \"casa\", \"siguiente\", \"manejo\", \"inter\\u00e9s\", \"devolver\", \"colpatria\", \"desembols\\u00f3\", \"prepagar\", \"cosa\", \"tribunal\", \"idea\", \"cobro\", \"lugar_equivocado1\", \"robo\", \"social\", \"mencionar\", \"vida\", \"presentado\", \"aqu\\u00ed\", \"anterior\", \"binance\", \"cada\", \"daviviendir\", \"daviviendo\", \"colombia\", \"informaci\\u00f3n\", \"lugar_equivocado\", \"hablar\", \"daviviendano\", \"lugar\", \"empresa\", \"davivienday\", \"propaganda\", \"ganar\", \"bbva\", \"pron\\u00f3stico\", \"daviviendasi\", \"fraude\", \"mundo\", \"hijueputa\", \"mujer\", \"fondo\", \"rata\", \"mercado\", \"interesante\", \"propio\", \"grupo\", \"vivir\", \"ashima7\", \"contrato\", \"due\\u00f1o\", \"entender\", \"gracia\", \"daviviendadeshacir\", \"colombiano\", \"compraventa\", \"promesa\", \"personal\", \"wilsonariasc\", \"delincuente\", \"respuesta\", \"daviviendir\", \"davivienda\", \"banco\", \"conocer\"], \"Freq\": [294.0, 944.0, 221.0, 206.0, 564.0, 117.0, 278.0, 115.0, 276.0, 109.0, 106.0, 103.0, 236.0, 96.0, 91.0, 204.0, 78.0, 75.0, 72.0, 69.0, 63.0, 148.0, 58.0, 57.0, 54.0, 53.0, 182.0, 49.0, 47.0, 46.0, 275.6267312460004, 277.63231829646276, 236.13906555699998, 203.9916698918751, 147.69084773423984, 107.52299500459971, 110.95667800365935, 92.18714594753096, 74.54506688077576, 72.49589390245235, 70.01035295351369, 66.528870859874, 64.26196573443512, 77.88695790379074, 63.40064244793911, 63.1413770948157, 64.8475360622527, 61.871514282652136, 61.540840541331775, 61.76175650193372, 57.868688715211775, 54.05905838643837, 50.586068456966586, 50.33249446968087, 49.819322983315914, 53.262763891942704, 49.80467265358861, 46.16471205443069, 47.59476497109206, 46.3968641237185, 87.85167770148254, 510.12754522584754, 155.04120781363835, 156.44060156396273, 158.38744366483226, 475.34450257819736, 51.65341200525276, 293.8041866330109, 220.28290092076082, 205.30295934219643, 114.36092492497332, 105.5925475159717, 102.34191182291572, 95.58502265147781, 90.90881142169887, 77.40083819800623, 74.60702110017452, 72.11042032828317, 68.84386628602425, 62.30769679537001, 58.20323685628514, 56.764438548089394, 53.548205165814615, 52.226144627461544, 47.0005168938956, 48.28317386207169, 45.7919353644507, 44.89389401658382, 39.80848446030292, 39.75821674916706, 38.86640170450369, 39.046244874422115, 38.535854078576705, 38.436141770219, 39.404723017812074, 37.58541984534562, 37.16549937706878, 307.0884365321634, 116.52495940360302, 27.079241951193726, 26.250998780333912, 20.968325969852796, 15.935073201167219, 14.073543050721021, 13.38289774333377, 12.827180520997366, 13.750798035784802, 12.886143154830023, 12.24044802254817, 11.292687024138173, 11.839760644934945, 10.767339608567287, 10.622101249456604, 10.310719597421837, 9.686022470634963, 9.938303604864357, 9.871310091395825, 10.108198203621141, 10.108198203621141, 10.108198203621141, 9.817336272050996, 9.959002574493509, 8.880392271300565, 8.941842849065916, 8.294388834357104, 8.066771695747276, 7.792025815263138, 26.278570404228123, 9.590048331426027, 9.029375042045316, 13.208747700469038, 11.00799022969809, 9.57803605207798, 11.37635415700738, 15.152300717409805, 14.580352827935076, 10.909215322293361, 10.044008043672891, 24.047515176318498, 20.755717885030005, 19.451030767834393, 16.588780004906692, 16.443137401109826, 12.850162716822691, 12.069751160047074, 10.98882265887029, 11.056843731389932, 9.036936124808236, 9.444301161931584, 11.024000957222796, 9.067133682572019, 9.299534593580074, 8.234898298478804, 8.696399588514273, 9.447543519683432, 7.990304753518416, 8.572822983000632, 7.639279745974411, 7.707252054802269, 11.31469073447476, 7.014418377461134, 6.888821500751982, 6.939462594668017, 7.0148889043116665, 7.068104635603476, 6.154312404755861, 6.257607164253159, 6.316094507277656, 6.316094507277656, 8.238605194557632, 82.34976833687674, 6.472717069007526, 161.6864401355654, 35.182989932955884, 54.171472274636535, 24.897108723679523, 8.539006646004577], \"Total\": [294.0, 944.0, 221.0, 206.0, 564.0, 117.0, 278.0, 115.0, 276.0, 109.0, 106.0, 103.0, 236.0, 96.0, 91.0, 204.0, 78.0, 75.0, 72.0, 69.0, 63.0, 148.0, 58.0, 57.0, 54.0, 53.0, 182.0, 49.0, 47.0, 46.0, 276.1903218701155, 278.2043270339275, 236.70546318180274, 204.5516277264542, 148.253858910099, 108.083352262302, 111.56567261649339, 92.75289683132507, 75.10977444318941, 73.0543712302248, 70.57171535055636, 67.08608672890604, 64.81861394840595, 78.56198103905649, 63.95703187108903, 63.69733992241953, 65.42433848820095, 62.43581926008007, 62.107893638764224, 62.33361422061534, 58.43619298102083, 54.61532433329395, 51.143878068908734, 50.889882739133874, 50.38183442710905, 53.87519190269831, 50.379226801614166, 46.7256831979651, 48.178480821698436, 46.966128596912064, 89.82449561942748, 564.6364101583695, 169.95814333690535, 182.26967162867243, 194.3508617363097, 944.3486029751923, 74.56692588249267, 294.55236107688273, 221.03071986327754, 206.06472406974183, 115.11804145386444, 106.33398409527517, 103.08362464275483, 96.33794853533345, 91.6635837980634, 78.14382485124611, 75.3500751189032, 72.85869154240771, 69.62465264969711, 63.05480134057269, 58.94452729864516, 57.50656553255539, 54.30077232965966, 53.02758668053186, 47.753472799915976, 49.06035850945172, 46.533970271295075, 45.66746946895751, 40.549820243158706, 40.50691027963585, 39.60755065070773, 39.791484661990324, 39.277792683883796, 39.17808223254762, 40.16578934311945, 38.33370048112363, 37.90665931490934, 944.3486029751923, 117.17456900419556, 27.715558727713663, 27.061147074338688, 21.627713985640593, 16.61431135292644, 14.732527471175283, 14.014603352106034, 13.473645806349753, 14.46182840421425, 13.56346395644384, 12.928186962641373, 11.928363461568255, 12.51939884222957, 11.405944848258487, 11.260508135417677, 10.982585495794265, 10.32227008768821, 10.604105454796844, 10.546676730098266, 10.815241026826714, 10.815241026826714, 10.815241026826714, 10.505133619153947, 10.662951784246038, 9.513647240011936, 9.600220518987527, 8.959545701403329, 8.725228445174334, 8.433735031609658, 28.56773256109664, 10.507159402091997, 9.8626577254261, 18.44174226082021, 20.526971899671725, 12.677320790397545, 26.808681410100153, 95.28022881294532, 169.95814333690535, 44.161175396158974, 39.598724398375346, 24.7042815401346, 21.430981298000887, 20.112598376702255, 17.250292217925818, 17.11553621211563, 13.493160534400003, 12.726504771269394, 11.645248729954856, 11.775562874101878, 9.654702725608614, 10.091174046811389, 11.798395655773174, 9.726156547544903, 9.988500755061441, 8.864915694024074, 9.369070938452872, 10.183312326690734, 8.621535277564375, 9.26205810107393, 8.266194784128597, 8.35436044413168, 12.289822945554638, 7.6413208984681855, 7.515521819727608, 7.57441418002691, 7.677366506475842, 7.751569744600961, 6.777031141381714, 6.900518925440104, 6.965789528988398, 6.965789528988398, 9.233357262884157, 109.3845610669041, 7.161361042027954, 944.3486029751923, 95.28022881294532, 564.6364101583695, 182.26967162867243, 17.167385779048523], \"Category\": [\"Default\", \"Default\", \"Default\", \"Default\", \"Default\", \"Default\", \"Default\", \"Default\", \"Default\", \"Default\", \"Default\", \"Default\", \"Default\", \"Default\", \"Default\", \"Default\", \"Default\", \"Default\", \"Default\", \"Default\", \"Default\", \"Default\", \"Default\", \"Default\", \"Default\", \"Default\", \"Default\", \"Default\", \"Default\", \"Default\", \"Topic1\", \"Topic1\", \"Topic1\", \"Topic1\", \"Topic1\", \"Topic1\", \"Topic1\", \"Topic1\", \"Topic1\", \"Topic1\", \"Topic1\", \"Topic1\", \"Topic1\", \"Topic1\", \"Topic1\", \"Topic1\", \"Topic1\", \"Topic1\", \"Topic1\", \"Topic1\", \"Topic1\", \"Topic1\", \"Topic1\", \"Topic1\", \"Topic1\", \"Topic1\", \"Topic1\", \"Topic1\", \"Topic1\", \"Topic1\", \"Topic1\", \"Topic1\", \"Topic1\", \"Topic1\", \"Topic1\", \"Topic1\", \"Topic1\", \"Topic2\", \"Topic2\", \"Topic2\", \"Topic2\", \"Topic2\", \"Topic2\", \"Topic2\", \"Topic2\", \"Topic2\", \"Topic2\", \"Topic2\", \"Topic2\", \"Topic2\", \"Topic2\", \"Topic2\", \"Topic2\", \"Topic2\", \"Topic2\", \"Topic2\", \"Topic2\", \"Topic2\", \"Topic2\", \"Topic2\", \"Topic2\", \"Topic2\", \"Topic2\", \"Topic2\", \"Topic2\", \"Topic2\", \"Topic2\", \"Topic2\", \"Topic3\", \"Topic3\", \"Topic3\", \"Topic3\", \"Topic3\", \"Topic3\", \"Topic3\", \"Topic3\", \"Topic3\", \"Topic3\", \"Topic3\", \"Topic3\", \"Topic3\", \"Topic3\", \"Topic3\", \"Topic3\", \"Topic3\", \"Topic3\", \"Topic3\", \"Topic3\", \"Topic3\", \"Topic3\", \"Topic3\", \"Topic3\", \"Topic3\", \"Topic3\", \"Topic3\", \"Topic3\", \"Topic3\", \"Topic3\", \"Topic3\", \"Topic3\", \"Topic3\", \"Topic3\", \"Topic3\", \"Topic3\", \"Topic3\", \"Topic3\", \"Topic3\", \"Topic3\", \"Topic4\", \"Topic4\", \"Topic4\", \"Topic4\", \"Topic4\", \"Topic4\", \"Topic4\", \"Topic4\", \"Topic4\", \"Topic4\", \"Topic4\", \"Topic4\", \"Topic4\", \"Topic4\", \"Topic4\", \"Topic4\", \"Topic4\", \"Topic4\", \"Topic4\", \"Topic4\", \"Topic4\", \"Topic4\", \"Topic4\", \"Topic4\", \"Topic4\", \"Topic4\", \"Topic4\", \"Topic4\", \"Topic4\", \"Topic4\", \"Topic4\", \"Topic4\", \"Topic4\", \"Topic4\", \"Topic4\", \"Topic4\", \"Topic4\", \"Topic4\", \"Topic4\"], \"logprob\": [30.0, 29.0, 28.0, 27.0, 26.0, 25.0, 24.0, 23.0, 22.0, 21.0, 20.0, 19.0, 18.0, 17.0, 16.0, 15.0, 14.0, 13.0, 12.0, 11.0, 10.0, 9.0, 8.0, 7.0, 6.0, 5.0, 4.0, 3.0, 2.0, 1.0, -3.8422, -3.8349, -3.9968, -4.1432, -4.4661, -4.7835, -4.7521, -4.9374, -5.1498, -5.1777, -5.2126, -5.2636, -5.2983, -5.106, -5.3118, -5.3159, -5.2892, -5.3362, -5.3415, -5.338, -5.4031, -5.4712, -5.5376, -5.5426, -5.5528, -5.486, -5.5531, -5.629, -5.5985, -5.624, -4.9856, -3.2266, -4.4176, -4.4086, -4.3962, -3.2972, -5.5167, -2.8674, -3.1554, -3.2258, -3.811, -3.8907, -3.922, -3.9903, -4.0405, -4.2013, -4.2381, -4.2721, -4.3185, -4.4183, -4.4864, -4.5114, -4.5698, -4.5948, -4.7002, -4.6733, -4.7262, -4.746, -4.8663, -4.8675, -4.8902, -4.8856, -4.8987, -4.9013, -4.8765, -4.9237, -4.935, -2.8232, -3.4583, -4.9177, -4.9487, -5.1734, -5.4479, -5.5721, -5.6225, -5.6649, -5.5953, -5.6603, -5.7117, -5.7923, -5.745, -5.8399, -5.8535, -5.8833, -5.9458, -5.92, -5.9268, -5.9031, -5.9031, -5.9031, -5.9323, -5.918, -6.0326, -6.0257, -6.1009, -6.1287, -6.1633, -4.9477, -5.9557, -6.016, -5.6356, -5.8178, -5.957, -5.7849, -5.4983, -5.5368, -5.8268, -5.9095, -5.0291, -5.1763, -5.2412, -5.4004, -5.4092, -5.6558, -5.7184, -5.8123, -5.8061, -6.0078, -5.9637, -5.8091, -6.0045, -5.9792, -6.1008, -6.0462, -5.9634, -6.1309, -6.0605, -6.1758, -6.167, -5.783, -6.2612, -6.2792, -6.2719, -6.2611, -6.2535, -6.392, -6.3753, -6.366, -6.366, -6.1003, -3.7982, -6.3415, -3.1235, -4.6486, -4.217, -4.9944, -6.0645], \"loglift\": [30.0, 29.0, 28.0, 27.0, 26.0, 25.0, 24.0, 23.0, 22.0, 21.0, 20.0, 19.0, 18.0, 17.0, 16.0, 15.0, 14.0, 13.0, 12.0, 11.0, 10.0, 9.0, 8.0, 7.0, 6.0, 5.0, 4.0, 3.0, 2.0, 1.0, 0.6791, 0.679, 0.6787, 0.6784, 0.6773, 0.6759, 0.6756, 0.675, 0.6736, 0.6734, 0.6731, 0.6728, 0.6725, 0.6725, 0.6724, 0.6723, 0.6722, 0.672, 0.6719, 0.6719, 0.6713, 0.6709, 0.6701, 0.6701, 0.6699, 0.6697, 0.6696, 0.669, 0.6689, 0.6689, 0.6589, 0.5796, 0.5892, 0.5283, 0.4765, -0.0054, 0.314, 1.5895, 1.5886, 1.5883, 1.5854, 1.585, 1.5848, 1.5842, 1.5837, 1.5825, 1.5821, 1.5817, 1.5807, 1.5801, 1.5794, 1.579, 1.5781, 1.5768, 1.5761, 1.576, 1.5759, 1.5749, 1.5736, 1.5734, 1.5731, 1.5731, 1.5729, 1.5729, 1.5729, 1.5723, 1.5723, 0.4687, 1.9203, 1.9027, 1.8955, 1.8949, 1.8842, 1.8801, 1.8798, 1.8767, 1.8755, 1.8747, 1.8712, 1.8711, 1.8701, 1.8683, 1.8675, 1.8628, 1.8623, 1.8611, 1.8597, 1.8583, 1.8583, 1.8583, 1.8582, 1.8576, 1.857, 1.8549, 1.8488, 1.8474, 1.8468, 1.8424, 1.8346, 1.8376, 1.5922, 1.3028, 1.6456, 1.0687, 0.0872, -0.53, 0.5277, 0.5541, 1.9063, 1.9012, 1.8998, 1.8941, 1.8931, 1.8844, 1.8802, 1.8752, 1.8702, 1.8671, 1.867, 1.8653, 1.8631, 1.8617, 1.8595, 1.8587, 1.8582, 1.8572, 1.8559, 1.8543, 1.8526, 1.8505, 1.8476, 1.8461, 1.8457, 1.843, 1.8409, 1.8368, 1.8354, 1.8353, 1.8353, 1.8192, 1.6493, 1.8321, 0.1684, 0.937, -0.4108, -0.0575, 1.2348]}, \"token.table\": {\"Topic\": [2, 2, 3, 3, 4, 4, 1, 2, 2, 2, 2, 1, 3, 4, 1, 4, 3, 3, 4, 2, 2, 3, 1, 2, 3, 2, 1, 3, 3, 1, 3, 4, 3, 3, 4, 2, 4, 4, 3, 1, 1, 3, 1, 1, 4, 4, 3, 4, 4, 4, 1, 3, 4, 1, 3, 1, 4, 4, 3, 3, 2, 3, 1, 2, 4, 4, 4, 1, 2, 2, 2, 2, 2, 4, 4, 4, 4, 4, 2, 1, 4, 1, 4, 1, 3, 2, 3, 4, 2, 3, 2, 1, 3, 4, 4, 3, 3, 3, 2, 2, 3, 2, 4, 1, 2, 4, 4, 3, 1, 1, 1, 1, 1, 1, 4, 1, 1, 2, 3, 3, 2, 1, 3, 4, 4, 4, 4, 3, 2, 2, 2, 4, 3, 1, 2, 4, 3, 1, 1, 2, 3, 1, 2, 1, 1, 3, 3, 3, 2, 1, 1, 2, 2, 1, 1, 3, 1, 2, 1, 3, 1, 4, 1, 4], \"Freq\": [0.9760817932443671, 0.43844752377450913, 0.5358803068355111, 0.704922551033517, 0.2711240580898142, 0.9160719845443545, 0.9949296893638792, 0.9806216585581647, 0.9853841371830067, 0.9944609935226396, 0.9902878693926311, 0.8558746971235559, 0.0054863762636125375, 0.13715940659031345, 0.9985384799248407, 0.9341379361314794, 0.963025169092053, 0.7888102040909555, 0.23664306122728665, 0.987485832018872, 0.5595202453466719, 0.4103148465875594, 0.9890522913002512, 0.9709755649724545, 0.97686533038431, 0.9948330599788565, 0.992846653920589, 0.9709764061954327, 0.9374784654372889, 0.7472627189825717, 0.24908757299419054, 0.8694998252783329, 0.9246210949155413, 0.9502782212618643, 0.8613524676608117, 0.46599989672064024, 0.5242498838107202, 0.9314057184460024, 0.9519155455354762, 0.9837551965609893, 0.9973032347257003, 0.9221717660968892, 0.9982876741828828, 0.903236119429413, 0.09563676558664372, 0.885343430600897, 0.9282043982405609, 0.9446815197189513, 0.8918684741983834, 0.9634510733684136, 0.4722910572385825, 0.15743035241286085, 0.36733748896334195, 0.9119892519227275, 0.08825702437961878, 0.979688217486268, 0.02226564130650609, 0.8378295640713739, 0.9584572231508645, 0.9246210949155413, 0.9927606605527743, 0.9481659726482228, 0.9992288149788349, 0.9801091950020561, 0.9241638803510915, 0.9348231806301242, 0.9117709821584674, 0.9930197238501085, 0.9912948534335225, 0.9783866538756044, 0.9864408710109764, 0.9929274873942248, 0.9832716729234389, 0.9606075201183377, 0.9323301507198986, 0.9445912453295141, 0.9030428971984111, 0.9575837735872896, 0.9853625689115745, 0.9970196582186153, 0.979889801031132, 0.9992655504818854, 0.9010361235082711, 0.9971867978272027, 0.9460094297114918, 0.7323468227979033, 0.2525333871716908, 0.9717062775665871, 0.9910282834323076, 0.9430309838607298, 0.983975996722144, 0.9887334856872975, 0.9607870622991831, 0.985490551999709, 0.9714915190312083, 0.8929024156600892, 0.9687791459678434, 0.9276038481707322, 0.984221612466323, 0.070009056396852, 0.9101177331590761, 0.9981247440188111, 0.9279089793691638, 0.9935140576426695, 0.9846607366341429, 0.902433850035695, 0.9253398252438985, 0.9741820565573461, 0.9825135627901622, 0.9962954244580902, 0.9924211884809102, 0.9918827674709261, 0.9924725561369271, 0.10830296841429021, 0.8664237473143217, 0.9873706964937949, 0.8129626932880307, 0.18523200606562726, 0.9246210949155413, 0.9125329348901409, 0.9953367574248724, 0.9850363307506513, 0.9648465001116078, 0.8613524676608117, 0.9321882046277772, 0.9429140377246777, 0.9677971798293816, 0.9680656974134978, 0.9968591029658409, 0.9953540176522614, 0.9699300689208081, 0.8837988771502922, 0.9985101801041034, 0.5029922197200286, 0.32509181358747113, 0.17154682019925185, 0.9168814375770944, 0.9982628031246437, 0.9925355681339046, 0.9911911704713331, 0.9644093625158577, 0.6973601148845123, 0.29503697168190907, 0.9918988032568511, 0.9794292477201201, 0.9105324064018858, 0.9485714182406706, 0.9585124774140457, 0.9882142881757915, 0.9946479243216254, 0.9855673081231233, 0.9964920517774, 0.9885251512350653, 0.9987167722384238, 0.9993109031886895, 0.9378266170887581, 0.9844692865187106, 0.9894879070607944, 0.09517320159822625, 0.9517320159822625, 0.08136813723274271, 0.8950495095601698, 0.24683556561044925, 0.74964875481692], \"Term\": [\"antemano_ofrecer\", \"anterior\", \"anterior\", \"aqu\\u00ed\", \"aqu\\u00ed\", \"ashima7\", \"asnasalvaje\", \"atenci\\u00f3n\", \"atender\", \"atento\", \"ayudar\", \"banco\", \"banco\", \"banco\", \"bancolombia\", \"bbva\", \"bien\", \"binance\", \"binance\", \"brindar\", \"cada\", \"cada\", \"cajero\", \"canal\", \"casa\", \"caso\", \"cliente\", \"cobrar\", \"cobro\", \"colombia\", \"colombia\", \"colombiano\", \"colpatria\", \"comercial\", \"compraventa\", \"conocer\", \"conocer\", \"contrato\", \"cosa\", \"cr\\u00e9dito\", \"cuenta\", \"cuota\", \"daviplata\", \"davivienda\", \"davivienda\", \"daviviendadeshacir\", \"daviviendaen\", \"daviviendano\", \"daviviendasi\", \"davivienday\", \"daviviendir\", \"daviviendir\", \"daviviendir\", \"daviviendo\", \"daviviendo\", \"decir\", \"decir\", \"delincuente\", \"descontar\", \"desembols\\u00f3\", \"detalle\", \"devolver\", \"dinero\", \"disculpa\", \"due\\u00f1o\", \"empresa\", \"entender\", \"esperar\", \"experiencia\", \"favor\", \"favor_cont\\u00e1cteno\", \"favor_escriba\", \"feliz\", \"fondo\", \"fraude\", \"ganar\", \"gracia\", \"grupo\", \"gusto\", \"haber\", \"hablar\", \"hacer\", \"hijueputa\", \"hora\", \"idea\", \"informaci\\u00f3n\", \"informaci\\u00f3n\", \"interesante\", \"interno\", \"inter\\u00e9s\", \"lamentar\", \"llamar\", \"llegar\", \"lugar\", \"lugar_equivocado\", \"lugar_equivocado1\", \"manejo\", \"marianiniecheve\", \"mejorar\", \"mencionar\", \"mencionar\", \"mensaje\", \"mercado\", \"mismo\", \"molestia_ocasionado\", \"mujer\", \"mundo\", \"navidad\", \"ninguno\", \"oficina\", \"pagar\", \"pasar\", \"pedir\", \"personal\", \"personal\", \"plata\", \"poder\", \"poder\", \"prepagar\", \"presentado\", \"privado\", \"problema\", \"producto\", \"promesa\", \"pron\\u00f3stico\", \"propaganda\", \"propio\", \"prueba\", \"quedar_atento\", \"quedar_atentos1\", \"querer_conocer\", \"rata\", \"responder\", \"respuesta\", \"respuesta\", \"respuesta\", \"robo\", \"saber\", \"sacar\", \"saludo\", \"scotiabank\", \"seguir\", \"seguir\", \"servicio\", \"se\\u00f1or\", \"siguiente\", \"social\", \"solicitar\", \"solicitud\", \"solo\", \"soluci\\u00f3n\", \"tarde\", \"tarde_sr\", \"tarjeta\", \"tener\", \"tribunal\", \"usar\", \"validar\", \"vida\", \"vida\", \"vivir\", \"vivir\", \"wilsonariasc\", \"wilsonariasc\"]}, \"R\": 30, \"lambda.step\": 0.01, \"plot.opts\": {\"xlab\": \"PC1\", \"ylab\": \"PC2\"}, \"topic.order\": [2, 3, 4, 1]};\n",
       "\n",
       "function LDAvis_load_lib(url, callback){\n",
       "  var s = document.createElement('script');\n",
       "  s.src = url;\n",
       "  s.async = true;\n",
       "  s.onreadystatechange = s.onload = callback;\n",
       "  s.onerror = function(){console.warn(\"failed to load library \" + url);};\n",
       "  document.getElementsByTagName(\"head\")[0].appendChild(s);\n",
       "}\n",
       "\n",
       "if(typeof(LDAvis) !== \"undefined\"){\n",
       "   // already loaded: just create the visualization\n",
       "   !function(LDAvis){\n",
       "       new LDAvis(\"#\" + \"ldavis_el371591403921748095205994808203\", ldavis_el371591403921748095205994808203_data);\n",
       "   }(LDAvis);\n",
       "}else if(typeof define === \"function\" && define.amd){\n",
       "   // require.js is available: use it to load d3/LDAvis\n",
       "   require.config({paths: {d3: \"https://d3js.org/d3.v5\"}});\n",
       "   require([\"d3\"], function(d3){\n",
       "      window.d3 = d3;\n",
       "      LDAvis_load_lib(\"https://cdn.jsdelivr.net/gh/bmabey/pyLDAvis@3.3.1/pyLDAvis/js/ldavis.v3.0.0.js\", function(){\n",
       "        new LDAvis(\"#\" + \"ldavis_el371591403921748095205994808203\", ldavis_el371591403921748095205994808203_data);\n",
       "      });\n",
       "    });\n",
       "}else{\n",
       "    // require.js not available: dynamically load d3 & LDAvis\n",
       "    LDAvis_load_lib(\"https://d3js.org/d3.v5.js\", function(){\n",
       "         LDAvis_load_lib(\"https://cdn.jsdelivr.net/gh/bmabey/pyLDAvis@3.3.1/pyLDAvis/js/ldavis.v3.0.0.js\", function(){\n",
       "                 new LDAvis(\"#\" + \"ldavis_el371591403921748095205994808203\", ldavis_el371591403921748095205994808203_data);\n",
       "            })\n",
       "         });\n",
       "}\n",
       "</script>"
      ],
      "text/plain": [
       "PreparedData(topic_coordinates=              x         y  topics  cluster       Freq\n",
       "topic                                                \n",
       "1     -0.120862  0.214129       1        1  50.605828\n",
       "2      0.318844  0.009030       2        1  20.351592\n",
       "3     -0.107974 -0.162254       3        1  14.574322\n",
       "0     -0.090008 -0.060905       4        1  14.468259, topic_info=            Term        Freq       Total Category  logprob  loglift\n",
       "333      mensaje  294.000000  294.000000  Default  30.0000  30.0000\n",
       "178    respuesta  944.000000  944.000000  Default  29.0000  29.0000\n",
       "708      privado  221.000000  221.000000  Default  28.0000  28.0000\n",
       "690         caso  206.000000  206.000000  Default  27.0000  27.0000\n",
       "7     davivienda  564.000000  564.000000  Default  26.0000  26.0000\n",
       "..           ...         ...         ...      ...      ...      ...\n",
       "178    respuesta  161.686440  944.348603   Topic4  -3.1235   0.1684\n",
       "37   daviviendir   35.182990   95.280229   Topic4  -4.6486   0.9370\n",
       "7     davivienda   54.171472  564.636410   Topic4  -4.2170  -0.4108\n",
       "23         banco   24.897109  182.269672   Topic4  -4.9944  -0.0575\n",
       "108      conocer    8.539007   17.167386   Topic4  -6.0645   1.2348\n",
       "\n",
       "[177 rows x 6 columns], token_table=      Topic      Freq              Term\n",
       "term                                   \n",
       "3531      2  0.976082  antemano_ofrecer\n",
       "2224      2  0.438448          anterior\n",
       "2224      3  0.535880          anterior\n",
       "2232      3  0.704923              aquí\n",
       "2232      4  0.271124              aquí\n",
       "...     ...       ...               ...\n",
       "900       3  0.951732              vida\n",
       "2261      1  0.081368             vivir\n",
       "2261      4  0.895050             vivir\n",
       "4817      1  0.246836      wilsonariasc\n",
       "4817      4  0.749649      wilsonariasc\n",
       "\n",
       "[164 rows x 3 columns], R=30, lambda_step=0.01, plot_opts={'xlab': 'PC1', 'ylab': 'PC2'}, topic_order=[2, 3, 4, 1])"
      ]
     },
     "execution_count": 255,
     "metadata": {},
     "output_type": "execute_result"
    }
   ],
   "source": [
    "# visualize LDA model results\n",
    "pyLDAvis.enable_notebook()\n",
    "gensim_models.prepare(lda_model, dictionary=dictionary, corpus=corpus)"
   ]
  },
  {
   "cell_type": "code",
   "execution_count": null,
   "metadata": {},
   "outputs": [],
   "source": []
  }
 ],
 "metadata": {
  "kernelspec": {
   "display_name": "Python 3.10.6 ('base')",
   "language": "python",
   "name": "python3"
  },
  "language_info": {
   "codemirror_mode": {
    "name": "ipython",
    "version": 3
   },
   "file_extension": ".py",
   "mimetype": "text/x-python",
   "name": "python",
   "nbconvert_exporter": "python",
   "pygments_lexer": "ipython3",
   "version": "3.10.6"
  },
  "orig_nbformat": 4,
  "vscode": {
   "interpreter": {
    "hash": "56c061c6a3605692dd8f68d833a6cd95e25f484a98386b6702ce308f04d6b922"
   }
  }
 },
 "nbformat": 4,
 "nbformat_minor": 2
}
